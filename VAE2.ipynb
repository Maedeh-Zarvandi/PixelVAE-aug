{
 "cells": [
  {
   "cell_type": "code",
   "execution_count": 2,
   "metadata": {
    "colab": {
     "base_uri": "https://localhost:8080/"
    },
    "id": "QQQN3pE0bl2-",
    "outputId": "4fa5f6ea-6494-4966-f375-003b781e9081"
   },
   "outputs": [
    {
     "name": "stdout",
     "output_type": "stream",
     "text": [
      "Requirement already satisfied: lightning-bolts in /home/alireza/miniconda3/envs/maedeh/lib/python3.8/site-packages (0.3.4)\n",
      "Requirement already satisfied: pytorch-lightning in /home/alireza/miniconda3/envs/maedeh/lib/python3.8/site-packages (1.3.6)\n",
      "Requirement already satisfied: packaging in /home/alireza/miniconda3/envs/maedeh/lib/python3.8/site-packages (from lightning-bolts) (20.9)\n",
      "Requirement already satisfied: torchmetrics>=0.2.0 in /home/alireza/miniconda3/envs/maedeh/lib/python3.8/site-packages (from lightning-bolts) (0.3.2)\n",
      "Requirement already satisfied: torch>=1.6 in /home/alireza/miniconda3/envs/maedeh/lib/python3.8/site-packages (from lightning-bolts) (1.9.0)\n",
      "Requirement already satisfied: future>=0.17.1 in /home/alireza/miniconda3/envs/maedeh/lib/python3.8/site-packages (from pytorch-lightning) (0.18.2)\n",
      "Requirement already satisfied: pyDeprecate==0.3.0 in /home/alireza/miniconda3/envs/maedeh/lib/python3.8/site-packages (from pytorch-lightning) (0.3.0)\n",
      "Requirement already satisfied: tqdm>=4.41.0 in /home/alireza/miniconda3/envs/maedeh/lib/python3.8/site-packages (from pytorch-lightning) (4.59.0)\n",
      "Requirement already satisfied: PyYAML<=5.4.1,>=5.1 in /home/alireza/miniconda3/envs/maedeh/lib/python3.8/site-packages (from pytorch-lightning) (5.4.1)\n",
      "Requirement already satisfied: numpy>=1.17.2 in /home/alireza/miniconda3/envs/maedeh/lib/python3.8/site-packages (from pytorch-lightning) (1.20.2)\n",
      "Requirement already satisfied: tensorboard!=2.5.0,>=2.2.0 in /home/alireza/miniconda3/envs/maedeh/lib/python3.8/site-packages (from pytorch-lightning) (2.4.1)\n",
      "Requirement already satisfied: fsspec[http]!=2021.06.0,>=2021.05.0 in /home/alireza/miniconda3/envs/maedeh/lib/python3.8/site-packages (from pytorch-lightning) (2021.5.0)\n",
      "Requirement already satisfied: aiohttp in /home/alireza/miniconda3/envs/maedeh/lib/python3.8/site-packages (from fsspec[http]!=2021.06.0,>=2021.05.0->pytorch-lightning) (3.7.4.post0)\n",
      "Requirement already satisfied: requests in /home/alireza/miniconda3/envs/maedeh/lib/python3.8/site-packages (from fsspec[http]!=2021.06.0,>=2021.05.0->pytorch-lightning) (2.25.1)\n",
      "Requirement already satisfied: protobuf>=3.6.0 in /home/alireza/miniconda3/envs/maedeh/lib/python3.8/site-packages (from tensorboard!=2.5.0,>=2.2.0->pytorch-lightning) (3.17.3)\n",
      "Requirement already satisfied: six>=1.10.0 in /home/alireza/miniconda3/envs/maedeh/lib/python3.8/site-packages (from tensorboard!=2.5.0,>=2.2.0->pytorch-lightning) (1.16.0)\n",
      "Requirement already satisfied: markdown>=2.6.8 in /home/alireza/miniconda3/envs/maedeh/lib/python3.8/site-packages (from tensorboard!=2.5.0,>=2.2.0->pytorch-lightning) (3.3.4)\n",
      "Requirement already satisfied: absl-py>=0.4 in /home/alireza/miniconda3/envs/maedeh/lib/python3.8/site-packages (from tensorboard!=2.5.0,>=2.2.0->pytorch-lightning) (0.13.0)\n",
      "Requirement already satisfied: tensorboard-plugin-wit>=1.6.0 in /home/alireza/miniconda3/envs/maedeh/lib/python3.8/site-packages (from tensorboard!=2.5.0,>=2.2.0->pytorch-lightning) (1.8.0)\n",
      "Requirement already satisfied: wheel>=0.26 in /home/alireza/miniconda3/envs/maedeh/lib/python3.8/site-packages (from tensorboard!=2.5.0,>=2.2.0->pytorch-lightning) (0.36.2)\n",
      "Requirement already satisfied: google-auth-oauthlib<0.5,>=0.4.1 in /home/alireza/miniconda3/envs/maedeh/lib/python3.8/site-packages (from tensorboard!=2.5.0,>=2.2.0->pytorch-lightning) (0.4.4)\n",
      "Requirement already satisfied: google-auth<2,>=1.6.3 in /home/alireza/miniconda3/envs/maedeh/lib/python3.8/site-packages (from tensorboard!=2.5.0,>=2.2.0->pytorch-lightning) (1.31.0)\n",
      "Requirement already satisfied: werkzeug>=0.11.15 in /home/alireza/miniconda3/envs/maedeh/lib/python3.8/site-packages (from tensorboard!=2.5.0,>=2.2.0->pytorch-lightning) (2.0.1)\n",
      "Requirement already satisfied: grpcio>=1.24.3 in /home/alireza/miniconda3/envs/maedeh/lib/python3.8/site-packages (from tensorboard!=2.5.0,>=2.2.0->pytorch-lightning) (1.38.0)\n",
      "Requirement already satisfied: setuptools>=41.0.0 in /home/alireza/miniconda3/envs/maedeh/lib/python3.8/site-packages (from tensorboard!=2.5.0,>=2.2.0->pytorch-lightning) (52.0.0.post20210125)\n",
      "Requirement already satisfied: cachetools<5.0,>=2.0.0 in /home/alireza/miniconda3/envs/maedeh/lib/python3.8/site-packages (from google-auth<2,>=1.6.3->tensorboard!=2.5.0,>=2.2.0->pytorch-lightning) (4.2.2)\n",
      "Requirement already satisfied: pyasn1-modules>=0.2.1 in /home/alireza/miniconda3/envs/maedeh/lib/python3.8/site-packages (from google-auth<2,>=1.6.3->tensorboard!=2.5.0,>=2.2.0->pytorch-lightning) (0.2.8)\n",
      "Requirement already satisfied: rsa<5,>=3.1.4 in /home/alireza/miniconda3/envs/maedeh/lib/python3.8/site-packages (from google-auth<2,>=1.6.3->tensorboard!=2.5.0,>=2.2.0->pytorch-lightning) (4.7.2)\n",
      "Requirement already satisfied: requests-oauthlib>=0.7.0 in /home/alireza/miniconda3/envs/maedeh/lib/python3.8/site-packages (from google-auth-oauthlib<0.5,>=0.4.1->tensorboard!=2.5.0,>=2.2.0->pytorch-lightning) (1.3.0)\n",
      "Requirement already satisfied: pyasn1<0.5.0,>=0.4.6 in /home/alireza/miniconda3/envs/maedeh/lib/python3.8/site-packages (from pyasn1-modules>=0.2.1->google-auth<2,>=1.6.3->tensorboard!=2.5.0,>=2.2.0->pytorch-lightning) (0.4.8)\n",
      "Requirement already satisfied: urllib3<1.27,>=1.21.1 in /home/alireza/miniconda3/envs/maedeh/lib/python3.8/site-packages (from requests->fsspec[http]!=2021.06.0,>=2021.05.0->pytorch-lightning) (1.26.4)\n",
      "Requirement already satisfied: idna<3,>=2.5 in /home/alireza/miniconda3/envs/maedeh/lib/python3.8/site-packages (from requests->fsspec[http]!=2021.06.0,>=2021.05.0->pytorch-lightning) (2.10)\n",
      "Requirement already satisfied: chardet<5,>=3.0.2 in /home/alireza/miniconda3/envs/maedeh/lib/python3.8/site-packages (from requests->fsspec[http]!=2021.06.0,>=2021.05.0->pytorch-lightning) (4.0.0)\n",
      "Requirement already satisfied: certifi>=2017.4.17 in /home/alireza/miniconda3/envs/maedeh/lib/python3.8/site-packages (from requests->fsspec[http]!=2021.06.0,>=2021.05.0->pytorch-lightning) (2021.5.30)\n",
      "Requirement already satisfied: oauthlib>=3.0.0 in /home/alireza/miniconda3/envs/maedeh/lib/python3.8/site-packages (from requests-oauthlib>=0.7.0->google-auth-oauthlib<0.5,>=0.4.1->tensorboard!=2.5.0,>=2.2.0->pytorch-lightning) (3.1.1)\n",
      "Requirement already satisfied: typing_extensions in /home/alireza/miniconda3/envs/maedeh/lib/python3.8/site-packages (from torch>=1.6->lightning-bolts) (3.7.4.3)\n",
      "Requirement already satisfied: attrs>=17.3.0 in /home/alireza/miniconda3/envs/maedeh/lib/python3.8/site-packages (from aiohttp->fsspec[http]!=2021.06.0,>=2021.05.0->pytorch-lightning) (21.2.0)\n",
      "Requirement already satisfied: yarl<2.0,>=1.0 in /home/alireza/miniconda3/envs/maedeh/lib/python3.8/site-packages (from aiohttp->fsspec[http]!=2021.06.0,>=2021.05.0->pytorch-lightning) (1.6.3)\n",
      "Requirement already satisfied: multidict<7.0,>=4.5 in /home/alireza/miniconda3/envs/maedeh/lib/python3.8/site-packages (from aiohttp->fsspec[http]!=2021.06.0,>=2021.05.0->pytorch-lightning) (5.1.0)\n",
      "Requirement already satisfied: async-timeout<4.0,>=3.0 in /home/alireza/miniconda3/envs/maedeh/lib/python3.8/site-packages (from aiohttp->fsspec[http]!=2021.06.0,>=2021.05.0->pytorch-lightning) (3.0.1)\n",
      "Requirement already satisfied: pyparsing>=2.0.2 in /home/alireza/miniconda3/envs/maedeh/lib/python3.8/site-packages (from packaging->lightning-bolts) (2.4.7)\n"
     ]
    }
   ],
   "source": [
    "  !pip install lightning-bolts pytorch-lightning"
   ]
  },
  {
   "cell_type": "code",
   "execution_count": 1,
   "metadata": {},
   "outputs": [
    {
     "name": "stdout",
     "output_type": "stream",
     "text": [
      "env: CUDA_VISIBLE_DEVICES=1\n"
     ]
    }
   ],
   "source": [
    "%env CUDA_VISIBLE_DEVICES=1"
   ]
  },
  {
   "cell_type": "code",
   "execution_count": 2,
   "metadata": {
    "id": "TzoODexgbvFG"
   },
   "outputs": [],
   "source": [
    "from pl_bolts.models.autoencoders import VAE\n",
    "from torchvision import datasets, transforms\n",
    "from pytorch_lightning import Trainer\n",
    "import matplotlib.pyplot as plt\n",
    "import torch\n",
    "import torch.nn.functional as F\n",
    "from PIL import Image\n",
    "import numpy as np"
   ]
  },
  {
   "cell_type": "code",
   "execution_count": 3,
   "metadata": {
    "id": "jtWwtb-Dlwnz"
   },
   "outputs": [],
   "source": [
    "class PerturbCIFAR10(datasets.CIFAR10):\n",
    "    def __init__(\n",
    "            self,\n",
    "            root,\n",
    "            train = True,\n",
    "            orig_transform = None,\n",
    "            perturb_transform = None,\n",
    "            target_transform = None,\n",
    "            download = False,\n",
    "    ):\n",
    "        super().__init__(root=root, train=train, transform=perturb_transform, target_transform=target_transform, download=download)\n",
    "        self.orig_transform = orig_transform\n",
    "\n",
    "    def __getitem__(self, index):\n",
    "        img, target = self.data[index], self.targets[index]\n",
    "\n",
    "        # doing this so that it is consistent with all other datasets\n",
    "        # to return a PIL Image\n",
    "        img = Image.fromarray(img)\n",
    "\n",
    "        if self.transform is not None:\n",
    "            img_perturb = self.transform(img)\n",
    "          \n",
    "        if self.orig_transform is not None:\n",
    "            img = self.orig_transform(img)\n",
    "\n",
    "        if self.target_transform is not None:\n",
    "            target = self.target_transform(target)\n",
    "\n",
    "        return img, img_perturb, target"
   ]
  },
  {
   "cell_type": "code",
   "execution_count": 4,
   "metadata": {
    "id": "yFbvUtvhJdYs"
   },
   "outputs": [],
   "source": [
    "class botlessCIFAR10(datasets.CIFAR10):\n",
    "    def __init__(\n",
    "            self,\n",
    "            root,\n",
    "            train = True,\n",
    "            transform = None,\n",
    "            target_transform = None,\n",
    "            download = False,\n",
    "    ):\n",
    "        super().__init__(root=root, train=train, transform=transform, target_transform=target_transform, download=download)\n",
    "        self.orig_transform = orig_transform\n",
    "\n",
    "    def __getitem__(self, index):\n",
    "        img, target = self.data[index], self.targets[index]\n",
    "\n",
    "        # doing this so that it is consistent with all other datasets\n",
    "        # to return a PIL Image\n",
    "        img = Image.fromarray(img)\n",
    "\n",
    "        if self.transform is not None:\n",
    "            img = self.transform(img)\n",
    "        \n",
    "\n",
    "        if self.target_transform is not None:\n",
    "            target = self.target_transform(target)\n",
    "\n",
    "        return img, img_botless, target"
   ]
  },
  {
   "cell_type": "code",
   "execution_count": 5,
   "metadata": {
    "id": "hsl7WGTYpNNL"
   },
   "outputs": [],
   "source": [
    "class JigsawPuzzleTransform:\n",
    "    def __init__(self):\n",
    "        # self.sample = x\n",
    "        pass\n",
    "\n",
    "    def __call__(self, sample):\n",
    "        five_cropped = transforms.FiveCrop(size=(16, 16))\n",
    "        five_c = list(five_cropped(sample))\n",
    "        # print(\"five_c[0].shape\",five_c[0].shape)\n",
    "        five_c = five_c[:-1]\n",
    "        np.random.shuffle(five_c)\n",
    "        puzzled = torch.zeros((3, 32, 32))\n",
    "        puzzled[:, 0:16, 0:16] = five_c[0]\n",
    "        puzzled[:, 16:32, 0:16] = five_c[1]\n",
    "        puzzled[:, 0:16, 16:32] = five_c[2]\n",
    "        puzzled[:, 16:32, 16:32] = five_c[3]\n",
    "        # print(\"five_c len\",len(five_c))\n",
    "        \n",
    "        # puzzled = torch.cat(five_c, 1)\n",
    "        # print(puzzled.shape)\n",
    "\n",
    "        return puzzled\n",
    "  "
   ]
  },
  {
   "cell_type": "code",
   "execution_count": 6,
   "metadata": {
    "id": "Zumt8HN1rlaj"
   },
   "outputs": [],
   "source": [
    "class GaussianNoise:\n",
    "    def __init__(self, mean=0., std=1.):\n",
    "        self.std = std\n",
    "        self.mean = mean\n",
    "        \n",
    "    def __call__(self, tensor):\n",
    "        return tensor + torch.randn(tensor.size()) * self.std + self.mean\n",
    "    \n",
    "    def __repr__(self):\n",
    "        return self.__class__.__name__ + '(mean={0}, std={1})'.format(self.mean, self.std)"
   ]
  },
  {
   "cell_type": "code",
   "execution_count": 12,
   "metadata": {
    "id": "SGfyY-yom9af"
   },
   "outputs": [],
   "source": [
    "transform = transforms.Compose([\n",
    "    transforms.ToTensor(),\n",
    "    # transforms.Normalize(\n",
    "    #     mean=[x / 255.0 for x in [125.3, 123.0, 113.9]],\n",
    "    #     std=[x / 255.0 for x in [63.0, 62.1, 66.7]],\n",
    "    # )\n",
    "])\n",
    "\n",
    "grayscale_transform = transforms.Compose([\n",
    "    transform,\n",
    "    transforms.Grayscale(3)\n",
    "])\n",
    "\n",
    "# noise\n",
    "gaussianNoise_transform = transforms.Compose([\n",
    "    transform,\n",
    "    GaussianNoise(0., 0.06)\n",
    "])\n",
    "\n",
    "#jigsaw_puzzle\n",
    "puzzle_transform = transforms.Compose([\n",
    "    transform,\n",
    "    JigsawPuzzleTransform()\n",
    "])"
   ]
  },
  {
   "cell_type": "markdown",
   "metadata": {
    "id": "imT3U-GP0Q45"
   },
   "source": [
    "# Gray Scaled batch"
   ]
  },
  {
   "cell_type": "code",
   "execution_count": null,
   "metadata": {
    "colab": {
     "base_uri": "https://localhost:8080/",
     "height": 171,
     "referenced_widgets": [
      "6cb95bc91de546eaabd2cc65a52ca8d5",
      "3472c1aef5944a05b3876e004b2de2d1",
      "ad55b362015b43d286c3a8f3b1b1a6d4",
      "491ce4cac03a4e22b42ae7678164730d",
      "7be0c70d07e24ecfb760f5ac29ad482b",
      "a9d345e1cdcd4b169952843f7cfe164d",
      "017ec46232e04f0988b3abd088c16c6f",
      "69d3a3197f434b9e88f5b4693d191c50"
     ]
    },
    "id": "aMYTc3s2k8Cc",
    "outputId": "074d7ea2-481e-4040-bdab-6f4360264694"
   },
   "outputs": [
    {
     "name": "stdout",
     "output_type": "stream",
     "text": [
      "Downloading https://www.cs.toronto.edu/~kriz/cifar-10-python.tar.gz to ./data/cifar-10-python.tar.gz\n"
     ]
    },
    {
     "data": {
      "application/vnd.jupyter.widget-view+json": {
       "model_id": "ae2999aa6a7947b592eb99fb5b170ca2",
       "version_major": 2,
       "version_minor": 0
      },
      "text/plain": [
       "  0%|          | 0/170498071 [00:00<?, ?it/s]"
      ]
     },
     "metadata": {},
     "output_type": "display_data"
    }
   ],
   "source": [
    "batch_size=256\n",
    "\n",
    "trainset = PerturbCIFAR10(root='./data', train=True,\n",
    "                          download=True, orig_transform=transform, perturb_transform=grayscale_transform)\n",
    "trainloader = torch.utils.data.DataLoader(trainset, batch_size=batch_size,\n",
    "                                          shuffle=True, num_workers=8)\n",
    "\n",
    "testset = PerturbCIFAR10(root='./data', train=False,\n",
    "                         download=True, orig_transform=transform, perturb_transform=grayscale_transform)\n",
    "testloader = torch.utils.data.DataLoader(testset, batch_size=batch_size,\n",
    "                                         shuffle=False, num_workers=8)"
   ]
  },
  {
   "cell_type": "markdown",
   "metadata": {
    "id": "B08u8cco1VqT"
   },
   "source": [
    "# Gaussian Noise added batch"
   ]
  },
  {
   "cell_type": "code",
   "execution_count": 13,
   "metadata": {
    "colab": {
     "base_uri": "https://localhost:8080/"
    },
    "id": "RfAtSWSp1dOe",
    "outputId": "7e9c9c68-4a35-4dae-f4f7-3bb987673e49"
   },
   "outputs": [
    {
     "name": "stdout",
     "output_type": "stream",
     "text": [
      "Files already downloaded and verified\n",
      "Files already downloaded and verified\n"
     ]
    }
   ],
   "source": [
    "batch_size=256\n",
    "\n",
    "trainset = PerturbCIFAR10(root='./data', train=True,\n",
    "                          download=True, orig_transform=transform, perturb_transform=gaussianNoise_transform)\n",
    "trainloader = torch.utils.data.DataLoader(trainset, batch_size=batch_size,\n",
    "                                          shuffle=True, num_workers=8)\n",
    "\n",
    "testset = PerturbCIFAR10(root='./data', train=False,\n",
    "                         download=True, orig_transform=transform, perturb_transform=gaussianNoise_transform)\n",
    "testloader = torch.utils.data.DataLoader(testset, batch_size=batch_size,\n",
    "                                         shuffle=False, num_workers=8)"
   ]
  },
  {
   "cell_type": "markdown",
   "metadata": {
    "id": "trVUTIT_1dyd"
   },
   "source": [
    "# Jigsaw Puzzled batch"
   ]
  },
  {
   "cell_type": "code",
   "execution_count": null,
   "metadata": {
    "colab": {
     "base_uri": "https://localhost:8080/"
    },
    "id": "kTWKMCQh1eL-",
    "outputId": "1d975c71-f7c3-40d2-942b-168f3935ec36"
   },
   "outputs": [
    {
     "name": "stdout",
     "output_type": "stream",
     "text": [
      "Files already downloaded and verified\n"
     ]
    },
    {
     "name": "stderr",
     "output_type": "stream",
     "text": [
      "/usr/local/lib/python3.7/dist-packages/torch/utils/data/dataloader.py:481: UserWarning: This DataLoader will create 8 worker processes in total. Our suggested max number of worker in current system is 2, which is smaller than what this DataLoader is going to create. Please be aware that excessive worker creation might get DataLoader running slow or even freeze, lower the worker number to avoid potential slowness/freeze if necessary.\n",
      "  cpuset_checked))\n"
     ]
    },
    {
     "name": "stdout",
     "output_type": "stream",
     "text": [
      "Files already downloaded and verified\n"
     ]
    }
   ],
   "source": [
    "batch_size=256\n",
    "\n",
    "trainset = PerturbCIFAR10(root='./data', train=True,\n",
    "                          download=True, orig_transform=transform, perturb_transform=puzzle_transform)\n",
    "trainloader = torch.utils.data.DataLoader(trainset, batch_size=batch_size,\n",
    "                                          shuffle=True, num_workers=8)\n",
    "\n",
    "testset = PerturbCIFAR10(root='./data', train=False,\n",
    "                         download=True, orig_transform=transform, perturb_transform=puzzle_transform)\n",
    "testloader = torch.utils.data.DataLoader(testset, batch_size=batch_size,\n",
    "                                         shuffle=False, num_workers=8)"
   ]
  },
  {
   "cell_type": "code",
   "execution_count": 14,
   "metadata": {
    "colab": {
     "base_uri": "https://localhost:8080/"
    },
    "id": "WMTfMIAhnyrA",
    "outputId": "8aeacc53-e58a-4437-e4b8-20584107c2cb"
   },
   "outputs": [
    {
     "name": "stdout",
     "output_type": "stream",
     "text": [
      "torch.Size([256, 3, 32, 32]) torch.Size([256, 3, 32, 32]) torch.Size([256])\n"
     ]
    }
   ],
   "source": [
    "x, x_perturb, y = next(iter(trainloader))\n",
    "print(x.shape, x_perturb.shape, y.shape)"
   ]
  },
  {
   "cell_type": "code",
   "execution_count": 15,
   "metadata": {
    "colab": {
     "base_uri": "https://localhost:8080/",
     "height": 283
    },
    "id": "oJU1DQdFoRaM",
    "outputId": "99850d72-9314-4419-e8bf-4ea3132626fd"
   },
   "outputs": [
    {
     "data": {
      "text/plain": [
       "<matplotlib.image.AxesImage at 0x7fbcaec28a60>"
      ]
     },
     "execution_count": 15,
     "metadata": {},
     "output_type": "execute_result"
    },
    {
     "data": {
      "image/png": "[encoded data removed]",
      "text/plain": [
       "<Figure size 432x288 with 1 Axes>"
      ]
     },
     "metadata": {
      "needs_background": "light"
     },
     "output_type": "display_data"
    }
   ],
   "source": [
    "plt.imshow(x[0].permute(1, 2, 0).detach().cpu())"
   ]
  },
  {
   "cell_type": "code",
   "execution_count": 16,
   "metadata": {
    "colab": {
     "base_uri": "https://localhost:8080/",
     "height": 283
    },
    "id": "jmlNguTwoWkX",
    "outputId": "54024ac2-d429-4070-850f-8076389da282"
   },
   "outputs": [
    {
     "name": "stderr",
     "output_type": "stream",
     "text": [
      "Clipping input data to the valid range for imshow with RGB data ([0..1] for floats or [0..255] for integers).\n"
     ]
    },
    {
     "data": {
      "text/plain": [
       "<matplotlib.image.AxesImage at 0x7fbc8e01bc10>"
      ]
     },
     "execution_count": 16,
     "metadata": {},
     "output_type": "execute_result"
    },
    {
     "data": {
      "image/png": "[encoded data removed]",
      "text/plain": [
       "<Figure size 432x288 with 1 Axes>"
      ]
     },
     "metadata": {
      "needs_background": "light"
     },
     "output_type": "display_data"
    }
   ],
   "source": [
    "plt.imshow(x_perturb[0].permute(1, 2, 0).detach().cpu())"
   ]
  },
  {
   "cell_type": "code",
   "execution_count": 17,
   "metadata": {
    "id": "Ktj67POnjFec"
   },
   "outputs": [],
   "source": [
    "class PerturbVAE(VAE):\n",
    "    def step(self, batch, batch_idx):\n",
    "        x_orig, x_perturb, y = batch\n",
    "        z, x_hat, p, q = self._run_step(x_perturb)\n",
    "\n",
    "        recon_loss = F.mse_loss(x_hat, x_orig, reduction='mean')\n",
    "\n",
    "        log_qz = q.log_prob(z)\n",
    "        log_pz = p.log_prob(z)\n",
    "\n",
    "        kl = log_qz - log_pz\n",
    "        kl = kl.mean()\n",
    "        kl *= self.kl_coeff\n",
    "\n",
    "        loss = kl + recon_loss\n",
    "\n",
    "        logs = {\n",
    "            \"recon_loss\": recon_loss,\n",
    "            \"kl\": kl,\n",
    "            \"loss\": loss,\n",
    "        }\n",
    "        return loss, logs"
   ]
  },
  {
   "cell_type": "code",
   "execution_count": 18,
   "metadata": {
    "id": "zEJchwywcDcg"
   },
   "outputs": [],
   "source": [
    "model = PerturbVAE(enc_type='resnet18', input_height=32)\n",
    "# model = PerturbVAE(input_height=32).from_pretrained('cifar10-resnet18')"
   ]
  },
  {
   "cell_type": "code",
   "execution_count": 19,
   "metadata": {
    "colab": {
     "base_uri": "https://localhost:8080/",
     "height": 475,
     "referenced_widgets": [
      "2fcfa482df03487ba330bfd62cfa0b9e",
      "11624667ce8e48c883f9d5e58ad82427",
      "a436db254ccd4b14bceaaba2432af15b",
      "cb644688534649cba7e6e29497351b2f",
      "8727d4f5c84a4dca8a52b59c236bfad9",
      "5c77461e068f433ea70924192d870835",
      "21c78d50407940ceb9c9effe98406ca1",
      "7d39b7d54f594c4ab01e12a9ec8e334e",
      "1b91cef6e1a44a00892fba8134937657",
      "560eaa097ede40fca936135c431f7061",
      "e293112344684f3daaa1d94e9eb23dd2",
      "8fe049a898fc47faaee87fad8dc06f77",
      "624d4a0b61fa4ed3b7f6f71a5a4bb0df",
      "50b9c0aaf07e4db59ff9b9d9bd148774",
      "0864cca9ddc64f80b94e71586723ccaa",
      "0ee4c29f64fe492486d0d1b32d01063e"
     ]
    },
    "id": "MvOdj0tRdC80",
    "outputId": "f7965267-0874-4a34-e8ad-0617a2113161"
   },
   "outputs": [
    {
     "name": "stderr",
     "output_type": "stream",
     "text": [
      "GPU available: True, used: True\n",
      "TPU available: False, using: 0 TPU cores\n",
      "/home/alireza/miniconda3/envs/maedeh/lib/python3.8/site-packages/pytorch_lightning/utilities/distributed.py:69: UserWarning: you defined a validation_step but have no val_dataloader. Skipping val loop\n",
      "  warnings.warn(*args, **kwargs)\n",
      "LOCAL_RANK: 0 - CUDA_VISIBLE_DEVICES: [1]\n",
      "\n",
      "  | Name    | Type          | Params\n",
      "------------------------------------------\n",
      "0 | encoder | ResNetEncoder | 11.2 M\n",
      "1 | decoder | ResNetDecoder | 8.6 M \n",
      "2 | fc_mu   | Linear        | 131 K \n",
      "3 | fc_var  | Linear        | 131 K \n",
      "------------------------------------------\n",
      "20.1 M    Trainable params\n",
      "0         Non-trainable params\n",
      "20.1 M    Total params\n",
      "80.228    Total estimated model params size (MB)\n"
     ]
    },
    {
     "data": {
      "application/vnd.jupyter.widget-view+json": {
       "model_id": "",
       "version_major": 2,
       "version_minor": 0
      },
      "text/plain": [
       "Validation sanity check: 0it [00:00, ?it/s]"
      ]
     },
     "metadata": {},
     "output_type": "display_data"
    },
    {
     "data": {
      "application/vnd.jupyter.widget-view+json": {
       "model_id": "258dfe0d63dc45fa8c334e82d3e42680",
       "version_major": 2,
       "version_minor": 0
      },
      "text/plain": [
       "Training: 0it [00:00, ?it/s]"
      ]
     },
     "metadata": {},
     "output_type": "display_data"
    },
    {
     "name": "stderr",
     "output_type": "stream",
     "text": [
      "/home/alireza/miniconda3/envs/maedeh/lib/python3.8/site-packages/torch/nn/functional.py:718: UserWarning: Named tensors and all their associated APIs are an experimental feature and subject to change. Please do not use them for anything important until they are released as stable. (Triggered internally at  /opt/conda/conda-bld/pytorch_1623448234945/work/c10/core/TensorImpl.h:1156.)\n",
      "  return torch.max_pool2d(input, kernel_size, stride, padding, dilation, ceil_mode)\n"
     ]
    }
   ],
   "source": [
    "trainer = Trainer(gpus=1, max_epochs=30)\n",
    "trainer.fit(model, train_dataloader=trainloader)"
   ]
  },
  {
   "cell_type": "code",
   "execution_count": 20,
   "metadata": {
    "colab": {
     "base_uri": "https://localhost:8080/",
     "height": 354
    },
    "id": "7C7LMiGwfBmD",
    "outputId": "55e8e98c-161e-4bff-dbf0-13cf7b249aaa"
   },
   "outputs": [
    {
     "name": "stderr",
     "output_type": "stream",
     "text": [
      "Clipping input data to the valid range for imshow with RGB data ([0..1] for floats or [0..255] for integers).\n"
     ]
    },
    {
     "data": {
      "text/plain": [
       "<matplotlib.image.AxesImage at 0x7fbcae756c40>"
      ]
     },
     "execution_count": 20,
     "metadata": {},
     "output_type": "execute_result"
    },
    {
     "data": {
      "image/png": "[encoded data removed]",
      "text/plain": [
       "<Figure size 432x288 with 1 Axes>"
      ]
     },
     "metadata": {
      "needs_background": "light"
     },
     "output_type": "display_data"
    }
   ],
   "source": [
    "plt.imshow(model(x_perturb[:1]).squeeze().permute(1, 2, 0).detach().cpu())"
   ]
  },
  {
   "cell_type": "markdown",
   "metadata": {
    "id": "WELTGUSkjfNN"
   },
   "source": [
    "# Linear Classification"
   ]
  },
  {
   "cell_type": "code",
   "execution_count": 23,
   "metadata": {
    "id": "S0RV7sd2VdmW"
   },
   "outputs": [],
   "source": [
    "from sklearn.linear_model import LogisticRegression\n",
    "from tqdm import tqdm"
   ]
  },
  {
   "cell_type": "code",
   "execution_count": 25,
   "metadata": {
    "colab": {
     "base_uri": "https://localhost:8080/"
    },
    "id": "FOfmeuuyjeMd",
    "outputId": "5bf67d4e-16bf-4459-fc82-68e0e7b7431c"
   },
   "outputs": [
    {
     "name": "stderr",
     "output_type": "stream",
     "text": [
      "100%|██████████| 196/196 [03:55<00:00,  1.20s/it]\n"
     ]
    }
   ],
   "source": [
    "latent = []\n",
    "labels = []\n",
    "for idx, (x, x_perturb, y) in enumerate(tqdm(trainloader)):\n",
    "#     z, x_hat, p, q = model._run_step(x_perturb)\n",
    "    x = model.encoder(x)\n",
    "\n",
    "    mu = model.fc_mu(x)\n",
    "\n",
    "    log_var = model.fc_var(x)\n",
    "\n",
    "    p, q, z = model.sample(mu, log_var)\n",
    "    \n",
    "    z=z.detach().cpu().numpy()\n",
    "    latent.append(z)\n",
    "    labels.append(y)\n",
    "# x, x_perturb, y = next(iter(trainloader))"
   ]
  },
  {
   "cell_type": "code",
   "execution_count": 26,
   "metadata": {
    "id": "BOG_LoVLmpfy"
   },
   "outputs": [],
   "source": [
    "z = np.concatenate(latent)"
   ]
  },
  {
   "cell_type": "code",
   "execution_count": 27,
   "metadata": {
    "id": "bEyMjak7KjmH"
   },
   "outputs": [],
   "source": [
    "y = np.concatenate(labels)"
   ]
  },
  {
   "cell_type": "code",
   "execution_count": 28,
   "metadata": {
    "id": "6V493gjlnxll"
   },
   "outputs": [],
   "source": [
    "clf = LogisticRegression(random_state=0, max_iter=5000).fit(z, y)"
   ]
  },
  {
   "cell_type": "code",
   "execution_count": 29,
   "metadata": {
    "colab": {
     "base_uri": "https://localhost:8080/"
    },
    "id": "Mk5tMvxgYMNk",
    "outputId": "3bd60940-e002-48ef-e034-5057b50115db"
   },
   "outputs": [
    {
     "data": {
      "text/plain": [
       "0.2675"
      ]
     },
     "execution_count": 29,
     "metadata": {},
     "output_type": "execute_result"
    }
   ],
   "source": [
    "clf.score(z, y)"
   ]
  },
  {
   "cell_type": "code",
   "execution_count": 30,
   "metadata": {},
   "outputs": [
    {
     "name": "stderr",
     "output_type": "stream",
     "text": [
      "100%|██████████| 40/40 [00:56<00:00,  1.42s/it]\n"
     ]
    }
   ],
   "source": [
    "latent2 = []\n",
    "labels2 = []\n",
    "for idx, (x, x_perturb, y) in enumerate(tqdm(testloader)):\n",
    "#     z, x_hat, p, q = model._run_step(x_perturb)\n",
    "    x = model.encoder(x)\n",
    "\n",
    "    mu = model.fc_mu(x)\n",
    "\n",
    "    log_var = model.fc_var(x)\n",
    "\n",
    "    p, q, z = model.sample(mu, log_var)\n",
    "    \n",
    "    z=z.detach().cpu().numpy()\n",
    "    latent2.append(z)\n",
    "    labels2.append(y)"
   ]
  },
  {
   "cell_type": "code",
   "execution_count": 33,
   "metadata": {},
   "outputs": [],
   "source": [
    "z = np.concatenate(latent2)"
   ]
  },
  {
   "cell_type": "code",
   "execution_count": 34,
   "metadata": {
    "id": "bEyMjak7KjmH"
   },
   "outputs": [],
   "source": [
    "y = np.concatenate(labels2)"
   ]
  },
  {
   "cell_type": "code",
   "execution_count": 35,
   "metadata": {
    "id": "6V493gjlnxll"
   },
   "outputs": [],
   "source": [
    "clf = LogisticRegression(random_state=0, max_iter=5000).fit(z, y)"
   ]
  },
  {
   "cell_type": "code",
   "execution_count": 36,
   "metadata": {
    "colab": {
     "base_uri": "https://localhost:8080/"
    },
    "id": "Mk5tMvxgYMNk",
    "outputId": "3bd60940-e002-48ef-e034-5057b50115db"
   },
   "outputs": [
    {
     "data": {
      "text/plain": [
       "0.3196"
      ]
     },
     "execution_count": 36,
     "metadata": {},
     "output_type": "execute_result"
    }
   ],
   "source": [
    "clf.score(z, y)"
   ]
  }
 ],
 "metadata": {
  "accelerator": "GPU",
  "colab": {
   "collapsed_sections": [],
   "name": "VAE.ipynb",
   "provenance": []
  },
  "kernelspec": {
   "display_name": "Python 3",
   "language": "python",
   "name": "python3"
  },
  "language_info": {
   "codemirror_mode": {
    "name": "ipython",
    "version": 3
   },
   "file_extension": ".py",
   "mimetype": "text/x-python",
   "name": "python",
   "nbconvert_exporter": "python",
   "pygments_lexer": "ipython3",
   "version": "3.8.10"
  },
  "widgets": {
   "application/vnd.jupyter.widget-state+json": {
    "017ec46232e04f0988b3abd088c16c6f": {
     "model_module": "@jupyter-widgets/base",
     "model_name": "LayoutModel",
     "state": {
      "_model_module": "@jupyter-widgets/base",
      "_model_module_version": "1.2.0",
      "_model_name": "LayoutModel",
      "_view_count": null,
      "_view_module": "@jupyter-widgets/base",
      "_view_module_version": "1.2.0",
      "_view_name": "LayoutView",
      "align_content": null,
      "align_items": null,
      "align_self": null,
      "border": null,
      "bottom": null,
      "display": null,
      "flex": null,
      "flex_flow": null,
      "grid_area": null,
      "grid_auto_columns": null,
      "grid_auto_flow": null,
      "grid_auto_rows": null,
      "grid_column": null,
      "grid_gap": null,
      "grid_row": null,
      "grid_template_areas": null,
      "grid_template_columns": null,
      "grid_template_rows": null,
      "height": null,
      "justify_content": null,
      "justify_items": null,
      "left": null,
      "margin": null,
      "max_height": null,
      "max_width": null,
      "min_height": null,
      "min_width": null,
      "object_fit": null,
      "object_position": null,
      "order": null,
      "overflow": null,
      "overflow_x": null,
      "overflow_y": null,
      "padding": null,
      "right": null,
      "top": null,
      "visibility": null,
      "width": null
     }
    },
    "0864cca9ddc64f80b94e71586723ccaa": {
     "model_module": "@jupyter-widgets/base",
     "model_name": "LayoutModel",
     "state": {
      "_model_module": "@jupyter-widgets/base",
      "_model_module_version": "1.2.0",
      "_model_name": "LayoutModel",
      "_view_count": null,
      "_view_module": "@jupyter-widgets/base",
      "_view_module_version": "1.2.0",
      "_view_name": "LayoutView",
      "align_content": null,
      "align_items": null,
      "align_self": null,
      "border": null,
      "bottom": null,
      "display": null,
      "flex": null,
      "flex_flow": null,
      "grid_area": null,
      "grid_auto_columns": null,
      "grid_auto_flow": null,
      "grid_auto_rows": null,
      "grid_column": null,
      "grid_gap": null,
      "grid_row": null,
      "grid_template_areas": null,
      "grid_template_columns": null,
      "grid_template_rows": null,
      "height": null,
      "justify_content": null,
      "justify_items": null,
      "left": null,
      "margin": null,
      "max_height": null,
      "max_width": null,
      "min_height": null,
      "min_width": null,
      "object_fit": null,
      "object_position": null,
      "order": null,
      "overflow": null,
      "overflow_x": null,
      "overflow_y": null,
      "padding": null,
      "right": null,
      "top": null,
      "visibility": null,
      "width": null
     }
    },
    "0ee4c29f64fe492486d0d1b32d01063e": {
     "model_module": "@jupyter-widgets/controls",
     "model_name": "DescriptionStyleModel",
     "state": {
      "_model_module": "@jupyter-widgets/controls",
      "_model_module_version": "1.5.0",
      "_model_name": "DescriptionStyleModel",
      "_view_count": null,
      "_view_module": "@jupyter-widgets/base",
      "_view_module_version": "1.2.0",
      "_view_name": "StyleView",
      "description_width": ""
     }
    },
    "11624667ce8e48c883f9d5e58ad82427": {
     "model_module": "@jupyter-widgets/controls",
     "model_name": "FloatProgressModel",
     "state": {
      "_dom_classes": [],
      "_model_module": "@jupyter-widgets/controls",
      "_model_module_version": "1.5.0",
      "_model_name": "FloatProgressModel",
      "_view_count": null,
      "_view_module": "@jupyter-widgets/controls",
      "_view_module_version": "1.5.0",
      "_view_name": "ProgressView",
      "bar_style": "info",
      "description": "Validation sanity check: ",
      "description_tooltip": null,
      "layout": "IPY_MODEL_8727d4f5c84a4dca8a52b59c236bfad9",
      "max": 1,
      "min": 0,
      "orientation": "horizontal",
      "style": "IPY_MODEL_5c77461e068f433ea70924192d870835",
      "value": 0
     }
    },
    "1b91cef6e1a44a00892fba8134937657": {
     "model_module": "@jupyter-widgets/controls",
     "model_name": "HBoxModel",
     "state": {
      "_dom_classes": [],
      "_model_module": "@jupyter-widgets/controls",
      "_model_module_version": "1.5.0",
      "_model_name": "HBoxModel",
      "_view_count": null,
      "_view_module": "@jupyter-widgets/controls",
      "_view_module_version": "1.5.0",
      "_view_name": "HBoxView",
      "box_style": "",
      "children": [
       "IPY_MODEL_560eaa097ede40fca936135c431f7061",
       "IPY_MODEL_e293112344684f3daaa1d94e9eb23dd2"
      ],
      "layout": "IPY_MODEL_8fe049a898fc47faaee87fad8dc06f77"
     }
    },
    "21c78d50407940ceb9c9effe98406ca1": {
     "model_module": "@jupyter-widgets/base",
     "model_name": "LayoutModel",
     "state": {
      "_model_module": "@jupyter-widgets/base",
      "_model_module_version": "1.2.0",
      "_model_name": "LayoutModel",
      "_view_count": null,
      "_view_module": "@jupyter-widgets/base",
      "_view_module_version": "1.2.0",
      "_view_name": "LayoutView",
      "align_content": null,
      "align_items": null,
      "align_self": null,
      "border": null,
      "bottom": null,
      "display": null,
      "flex": null,
      "flex_flow": null,
      "grid_area": null,
      "grid_auto_columns": null,
      "grid_auto_flow": null,
      "grid_auto_rows": null,
      "grid_column": null,
      "grid_gap": null,
      "grid_row": null,
      "grid_template_areas": null,
      "grid_template_columns": null,
      "grid_template_rows": null,
      "height": null,
      "justify_content": null,
      "justify_items": null,
      "left": null,
      "margin": null,
      "max_height": null,
      "max_width": null,
      "min_height": null,
      "min_width": null,
      "object_fit": null,
      "object_position": null,
      "order": null,
      "overflow": null,
      "overflow_x": null,
      "overflow_y": null,
      "padding": null,
      "right": null,
      "top": null,
      "visibility": null,
      "width": null
     }
    },
    "2fcfa482df03487ba330bfd62cfa0b9e": {
     "model_module": "@jupyter-widgets/controls",
     "model_name": "HBoxModel",
     "state": {
      "_dom_classes": [],
      "_model_module": "@jupyter-widgets/controls",
      "_model_module_version": "1.5.0",
      "_model_name": "HBoxModel",
      "_view_count": null,
      "_view_module": "@jupyter-widgets/controls",
      "_view_module_version": "1.5.0",
      "_view_name": "HBoxView",
      "box_style": "",
      "children": [
       "IPY_MODEL_11624667ce8e48c883f9d5e58ad82427",
       "IPY_MODEL_a436db254ccd4b14bceaaba2432af15b"
      ],
      "layout": "IPY_MODEL_cb644688534649cba7e6e29497351b2f"
     }
    },
    "3472c1aef5944a05b3876e004b2de2d1": {
     "model_module": "@jupyter-widgets/controls",
     "model_name": "FloatProgressModel",
     "state": {
      "_dom_classes": [],
      "_model_module": "@jupyter-widgets/controls",
      "_model_module_version": "1.5.0",
      "_model_name": "FloatProgressModel",
      "_view_count": null,
      "_view_module": "@jupyter-widgets/controls",
      "_view_module_version": "1.5.0",
      "_view_name": "ProgressView",
      "bar_style": "success",
      "description": "",
      "description_tooltip": null,
      "layout": "IPY_MODEL_7be0c70d07e24ecfb760f5ac29ad482b",
      "max": 170498071,
      "min": 0,
      "orientation": "horizontal",
      "style": "IPY_MODEL_a9d345e1cdcd4b169952843f7cfe164d",
      "value": 170498071
     }
    },
    "491ce4cac03a4e22b42ae7678164730d": {
     "model_module": "@jupyter-widgets/base",
     "model_name": "LayoutModel",
     "state": {
      "_model_module": "@jupyter-widgets/base",
      "_model_module_version": "1.2.0",
      "_model_name": "LayoutModel",
      "_view_count": null,
      "_view_module": "@jupyter-widgets/base",
      "_view_module_version": "1.2.0",
      "_view_name": "LayoutView",
      "align_content": null,
      "align_items": null,
      "align_self": null,
      "border": null,
      "bottom": null,
      "display": null,
      "flex": null,
      "flex_flow": null,
      "grid_area": null,
      "grid_auto_columns": null,
      "grid_auto_flow": null,
      "grid_auto_rows": null,
      "grid_column": null,
      "grid_gap": null,
      "grid_row": null,
      "grid_template_areas": null,
      "grid_template_columns": null,
      "grid_template_rows": null,
      "height": null,
      "justify_content": null,
      "justify_items": null,
      "left": null,
      "margin": null,
      "max_height": null,
      "max_width": null,
      "min_height": null,
      "min_width": null,
      "object_fit": null,
      "object_position": null,
      "order": null,
      "overflow": null,
      "overflow_x": null,
      "overflow_y": null,
      "padding": null,
      "right": null,
      "top": null,
      "visibility": null,
      "width": null
     }
    },
    "50b9c0aaf07e4db59ff9b9d9bd148774": {
     "model_module": "@jupyter-widgets/controls",
     "model_name": "ProgressStyleModel",
     "state": {
      "_model_module": "@jupyter-widgets/controls",
      "_model_module_version": "1.5.0",
      "_model_name": "ProgressStyleModel",
      "_view_count": null,
      "_view_module": "@jupyter-widgets/base",
      "_view_module_version": "1.2.0",
      "_view_name": "StyleView",
      "bar_color": null,
      "description_width": "initial"
     }
    },
    "560eaa097ede40fca936135c431f7061": {
     "model_module": "@jupyter-widgets/controls",
     "model_name": "FloatProgressModel",
     "state": {
      "_dom_classes": [],
      "_model_module": "@jupyter-widgets/controls",
      "_model_module_version": "1.5.0",
      "_model_name": "FloatProgressModel",
      "_view_count": null,
      "_view_module": "@jupyter-widgets/controls",
      "_view_module_version": "1.5.0",
      "_view_name": "ProgressView",
      "bar_style": "success",
      "description": "Epoch 0: 100%",
      "description_tooltip": null,
      "layout": "IPY_MODEL_624d4a0b61fa4ed3b7f6f71a5a4bb0df",
      "max": 196,
      "min": 0,
      "orientation": "horizontal",
      "style": "IPY_MODEL_50b9c0aaf07e4db59ff9b9d9bd148774",
      "value": 196
     }
    },
    "5c77461e068f433ea70924192d870835": {
     "model_module": "@jupyter-widgets/controls",
     "model_name": "ProgressStyleModel",
     "state": {
      "_model_module": "@jupyter-widgets/controls",
      "_model_module_version": "1.5.0",
      "_model_name": "ProgressStyleModel",
      "_view_count": null,
      "_view_module": "@jupyter-widgets/base",
      "_view_module_version": "1.2.0",
      "_view_name": "StyleView",
      "bar_color": null,
      "description_width": "initial"
     }
    },
    "624d4a0b61fa4ed3b7f6f71a5a4bb0df": {
     "model_module": "@jupyter-widgets/base",
     "model_name": "LayoutModel",
     "state": {
      "_model_module": "@jupyter-widgets/base",
      "_model_module_version": "1.2.0",
      "_model_name": "LayoutModel",
      "_view_count": null,
      "_view_module": "@jupyter-widgets/base",
      "_view_module_version": "1.2.0",
      "_view_name": "LayoutView",
      "align_content": null,
      "align_items": null,
      "align_self": null,
      "border": null,
      "bottom": null,
      "display": null,
      "flex": "2",
      "flex_flow": null,
      "grid_area": null,
      "grid_auto_columns": null,
      "grid_auto_flow": null,
      "grid_auto_rows": null,
      "grid_column": null,
      "grid_gap": null,
      "grid_row": null,
      "grid_template_areas": null,
      "grid_template_columns": null,
      "grid_template_rows": null,
      "height": null,
      "justify_content": null,
      "justify_items": null,
      "left": null,
      "margin": null,
      "max_height": null,
      "max_width": null,
      "min_height": null,
      "min_width": null,
      "object_fit": null,
      "object_position": null,
      "order": null,
      "overflow": null,
      "overflow_x": null,
      "overflow_y": null,
      "padding": null,
      "right": null,
      "top": null,
      "visibility": null,
      "width": null
     }
    },
    "69d3a3197f434b9e88f5b4693d191c50": {
     "model_module": "@jupyter-widgets/controls",
     "model_name": "DescriptionStyleModel",
     "state": {
      "_model_module": "@jupyter-widgets/controls",
      "_model_module_version": "1.5.0",
      "_model_name": "DescriptionStyleModel",
      "_view_count": null,
      "_view_module": "@jupyter-widgets/base",
      "_view_module_version": "1.2.0",
      "_view_name": "StyleView",
      "description_width": ""
     }
    },
    "6cb95bc91de546eaabd2cc65a52ca8d5": {
     "model_module": "@jupyter-widgets/controls",
     "model_name": "HBoxModel",
     "state": {
      "_dom_classes": [],
      "_model_module": "@jupyter-widgets/controls",
      "_model_module_version": "1.5.0",
      "_model_name": "HBoxModel",
      "_view_count": null,
      "_view_module": "@jupyter-widgets/controls",
      "_view_module_version": "1.5.0",
      "_view_name": "HBoxView",
      "box_style": "",
      "children": [
       "IPY_MODEL_3472c1aef5944a05b3876e004b2de2d1",
       "IPY_MODEL_ad55b362015b43d286c3a8f3b1b1a6d4"
      ],
      "layout": "IPY_MODEL_491ce4cac03a4e22b42ae7678164730d"
     }
    },
    "7be0c70d07e24ecfb760f5ac29ad482b": {
     "model_module": "@jupyter-widgets/base",
     "model_name": "LayoutModel",
     "state": {
      "_model_module": "@jupyter-widgets/base",
      "_model_module_version": "1.2.0",
      "_model_name": "LayoutModel",
      "_view_count": null,
      "_view_module": "@jupyter-widgets/base",
      "_view_module_version": "1.2.0",
      "_view_name": "LayoutView",
      "align_content": null,
      "align_items": null,
      "align_self": null,
      "border": null,
      "bottom": null,
      "display": null,
      "flex": null,
      "flex_flow": null,
      "grid_area": null,
      "grid_auto_columns": null,
      "grid_auto_flow": null,
      "grid_auto_rows": null,
      "grid_column": null,
      "grid_gap": null,
      "grid_row": null,
      "grid_template_areas": null,
      "grid_template_columns": null,
      "grid_template_rows": null,
      "height": null,
      "justify_content": null,
      "justify_items": null,
      "left": null,
      "margin": null,
      "max_height": null,
      "max_width": null,
      "min_height": null,
      "min_width": null,
      "object_fit": null,
      "object_position": null,
      "order": null,
      "overflow": null,
      "overflow_x": null,
      "overflow_y": null,
      "padding": null,
      "right": null,
      "top": null,
      "visibility": null,
      "width": null
     }
    },
    "7d39b7d54f594c4ab01e12a9ec8e334e": {
     "model_module": "@jupyter-widgets/controls",
     "model_name": "DescriptionStyleModel",
     "state": {
      "_model_module": "@jupyter-widgets/controls",
      "_model_module_version": "1.5.0",
      "_model_name": "DescriptionStyleModel",
      "_view_count": null,
      "_view_module": "@jupyter-widgets/base",
      "_view_module_version": "1.2.0",
      "_view_name": "StyleView",
      "description_width": ""
     }
    },
    "8727d4f5c84a4dca8a52b59c236bfad9": {
     "model_module": "@jupyter-widgets/base",
     "model_name": "LayoutModel",
     "state": {
      "_model_module": "@jupyter-widgets/base",
      "_model_module_version": "1.2.0",
      "_model_name": "LayoutModel",
      "_view_count": null,
      "_view_module": "@jupyter-widgets/base",
      "_view_module_version": "1.2.0",
      "_view_name": "LayoutView",
      "align_content": null,
      "align_items": null,
      "align_self": null,
      "border": null,
      "bottom": null,
      "display": null,
      "flex": "2",
      "flex_flow": null,
      "grid_area": null,
      "grid_auto_columns": null,
      "grid_auto_flow": null,
      "grid_auto_rows": null,
      "grid_column": null,
      "grid_gap": null,
      "grid_row": null,
      "grid_template_areas": null,
      "grid_template_columns": null,
      "grid_template_rows": null,
      "height": null,
      "justify_content": null,
      "justify_items": null,
      "left": null,
      "margin": null,
      "max_height": null,
      "max_width": null,
      "min_height": null,
      "min_width": null,
      "object_fit": null,
      "object_position": null,
      "order": null,
      "overflow": null,
      "overflow_x": null,
      "overflow_y": null,
      "padding": null,
      "right": null,
      "top": null,
      "visibility": null,
      "width": null
     }
    },
    "8fe049a898fc47faaee87fad8dc06f77": {
     "model_module": "@jupyter-widgets/base",
     "model_name": "LayoutModel",
     "state": {
      "_model_module": "@jupyter-widgets/base",
      "_model_module_version": "1.2.0",
      "_model_name": "LayoutModel",
      "_view_count": null,
      "_view_module": "@jupyter-widgets/base",
      "_view_module_version": "1.2.0",
      "_view_name": "LayoutView",
      "align_content": null,
      "align_items": null,
      "align_self": null,
      "border": null,
      "bottom": null,
      "display": "inline-flex",
      "flex": null,
      "flex_flow": "row wrap",
      "grid_area": null,
      "grid_auto_columns": null,
      "grid_auto_flow": null,
      "grid_auto_rows": null,
      "grid_column": null,
      "grid_gap": null,
      "grid_row": null,
      "grid_template_areas": null,
      "grid_template_columns": null,
      "grid_template_rows": null,
      "height": null,
      "justify_content": null,
      "justify_items": null,
      "left": null,
      "margin": null,
      "max_height": null,
      "max_width": null,
      "min_height": null,
      "min_width": null,
      "object_fit": null,
      "object_position": null,
      "order": null,
      "overflow": null,
      "overflow_x": null,
      "overflow_y": null,
      "padding": null,
      "right": null,
      "top": null,
      "visibility": null,
      "width": "100%"
     }
    },
    "a436db254ccd4b14bceaaba2432af15b": {
     "model_module": "@jupyter-widgets/controls",
     "model_name": "HTMLModel",
     "state": {
      "_dom_classes": [],
      "_model_module": "@jupyter-widgets/controls",
      "_model_module_version": "1.5.0",
      "_model_name": "HTMLModel",
      "_view_count": null,
      "_view_module": "@jupyter-widgets/controls",
      "_view_module_version": "1.5.0",
      "_view_name": "HTMLView",
      "description": "",
      "description_tooltip": null,
      "layout": "IPY_MODEL_21c78d50407940ceb9c9effe98406ca1",
      "placeholder": "​",
      "style": "IPY_MODEL_7d39b7d54f594c4ab01e12a9ec8e334e",
      "value": " 0/? [00:00&lt;?, ?it/s]"
     }
    },
    "a9d345e1cdcd4b169952843f7cfe164d": {
     "model_module": "@jupyter-widgets/controls",
     "model_name": "ProgressStyleModel",
     "state": {
      "_model_module": "@jupyter-widgets/controls",
      "_model_module_version": "1.5.0",
      "_model_name": "ProgressStyleModel",
      "_view_count": null,
      "_view_module": "@jupyter-widgets/base",
      "_view_module_version": "1.2.0",
      "_view_name": "StyleView",
      "bar_color": null,
      "description_width": "initial"
     }
    },
    "ad55b362015b43d286c3a8f3b1b1a6d4": {
     "model_module": "@jupyter-widgets/controls",
     "model_name": "HTMLModel",
     "state": {
      "_dom_classes": [],
      "_model_module": "@jupyter-widgets/controls",
      "_model_module_version": "1.5.0",
      "_model_name": "HTMLModel",
      "_view_count": null,
      "_view_module": "@jupyter-widgets/controls",
      "_view_module_version": "1.5.0",
      "_view_name": "HTMLView",
      "description": "",
      "description_tooltip": null,
      "layout": "IPY_MODEL_017ec46232e04f0988b3abd088c16c6f",
      "placeholder": "​",
      "style": "IPY_MODEL_69d3a3197f434b9e88f5b4693d191c50",
      "value": " 170499072/? [00:07&lt;00:00, 22789937.25it/s]"
     }
    },
    "cb644688534649cba7e6e29497351b2f": {
     "model_module": "@jupyter-widgets/base",
     "model_name": "LayoutModel",
     "state": {
      "_model_module": "@jupyter-widgets/base",
      "_model_module_version": "1.2.0",
      "_model_name": "LayoutModel",
      "_view_count": null,
      "_view_module": "@jupyter-widgets/base",
      "_view_module_version": "1.2.0",
      "_view_name": "LayoutView",
      "align_content": null,
      "align_items": null,
      "align_self": null,
      "border": null,
      "bottom": null,
      "display": "inline-flex",
      "flex": null,
      "flex_flow": "row wrap",
      "grid_area": null,
      "grid_auto_columns": null,
      "grid_auto_flow": null,
      "grid_auto_rows": null,
      "grid_column": null,
      "grid_gap": null,
      "grid_row": null,
      "grid_template_areas": null,
      "grid_template_columns": null,
      "grid_template_rows": null,
      "height": null,
      "justify_content": null,
      "justify_items": null,
      "left": null,
      "margin": null,
      "max_height": null,
      "max_width": null,
      "min_height": null,
      "min_width": null,
      "object_fit": null,
      "object_position": null,
      "order": null,
      "overflow": null,
      "overflow_x": null,
      "overflow_y": null,
      "padding": null,
      "right": null,
      "top": null,
      "visibility": null,
      "width": "100%"
     }
    },
    "e293112344684f3daaa1d94e9eb23dd2": {
     "model_module": "@jupyter-widgets/controls",
     "model_name": "HTMLModel",
     "state": {
      "_dom_classes": [],
      "_model_module": "@jupyter-widgets/controls",
      "_model_module_version": "1.5.0",
      "_model_name": "HTMLModel",
      "_view_count": null,
      "_view_module": "@jupyter-widgets/controls",
      "_view_module_version": "1.5.0",
      "_view_name": "HTMLView",
      "description": "",
      "description_tooltip": null,
      "layout": "IPY_MODEL_0864cca9ddc64f80b94e71586723ccaa",
      "placeholder": "​",
      "style": "IPY_MODEL_0ee4c29f64fe492486d0d1b32d01063e",
      "value": " 196/196 [02:12&lt;00:00,  1.48it/s, loss=0.0435, v_num=2]"
     }
    }
   }
  }
 },
 "nbformat": 4,
 "nbformat_minor": 4
}
