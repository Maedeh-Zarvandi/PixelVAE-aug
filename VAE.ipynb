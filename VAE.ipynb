{
 "cells": [
  {
   "cell_type": "code",
   "execution_count": 2,
   "metadata": {
    "colab": {
     "base_uri": "https://localhost:8080/"
    },
    "id": "QQQN3pE0bl2-",
    "outputId": "4fa5f6ea-6494-4966-f375-003b781e9081"
   },
   "outputs": [
    {
     "name": "stdout",
     "output_type": "stream",
     "text": [
      "Requirement already satisfied: lightning-bolts in /home/alireza/miniconda3/envs/maedeh/lib/python3.8/site-packages (0.3.4)\n",
      "Requirement already satisfied: pytorch-lightning in /home/alireza/miniconda3/envs/maedeh/lib/python3.8/site-packages (1.3.6)\n",
      "Requirement already satisfied: packaging in /home/alireza/miniconda3/envs/maedeh/lib/python3.8/site-packages (from lightning-bolts) (20.9)\n",
      "Requirement already satisfied: torchmetrics>=0.2.0 in /home/alireza/miniconda3/envs/maedeh/lib/python3.8/site-packages (from lightning-bolts) (0.3.2)\n",
      "Requirement already satisfied: torch>=1.6 in /home/alireza/miniconda3/envs/maedeh/lib/python3.8/site-packages (from lightning-bolts) (1.9.0)\n",
      "Requirement already satisfied: tqdm>=4.41.0 in /home/alireza/miniconda3/envs/maedeh/lib/python3.8/site-packages (from pytorch-lightning) (4.59.0)\n",
      "Requirement already satisfied: tensorboard!=2.5.0,>=2.2.0 in /home/alireza/miniconda3/envs/maedeh/lib/python3.8/site-packages (from pytorch-lightning) (2.4.1)\n",
      "Requirement already satisfied: numpy>=1.17.2 in /home/alireza/miniconda3/envs/maedeh/lib/python3.8/site-packages (from pytorch-lightning) (1.20.2)\n",
      "Requirement already satisfied: fsspec[http]!=2021.06.0,>=2021.05.0 in /home/alireza/miniconda3/envs/maedeh/lib/python3.8/site-packages (from pytorch-lightning) (2021.5.0)\n",
      "Requirement already satisfied: pyDeprecate==0.3.0 in /home/alireza/miniconda3/envs/maedeh/lib/python3.8/site-packages (from pytorch-lightning) (0.3.0)\n",
      "Requirement already satisfied: PyYAML<=5.4.1,>=5.1 in /home/alireza/miniconda3/envs/maedeh/lib/python3.8/site-packages (from pytorch-lightning) (5.4.1)\n",
      "Requirement already satisfied: future>=0.17.1 in /home/alireza/miniconda3/envs/maedeh/lib/python3.8/site-packages (from pytorch-lightning) (0.18.2)\n",
      "Requirement already satisfied: requests in /home/alireza/miniconda3/envs/maedeh/lib/python3.8/site-packages (from fsspec[http]!=2021.06.0,>=2021.05.0->pytorch-lightning) (2.25.1)\n",
      "Requirement already satisfied: aiohttp in /home/alireza/miniconda3/envs/maedeh/lib/python3.8/site-packages (from fsspec[http]!=2021.06.0,>=2021.05.0->pytorch-lightning) (3.7.4.post0)\n",
      "Requirement already satisfied: markdown>=2.6.8 in /home/alireza/miniconda3/envs/maedeh/lib/python3.8/site-packages (from tensorboard!=2.5.0,>=2.2.0->pytorch-lightning) (3.3.4)\n",
      "Requirement already satisfied: setuptools>=41.0.0 in /home/alireza/miniconda3/envs/maedeh/lib/python3.8/site-packages (from tensorboard!=2.5.0,>=2.2.0->pytorch-lightning) (52.0.0.post20210125)\n",
      "Requirement already satisfied: absl-py>=0.4 in /home/alireza/miniconda3/envs/maedeh/lib/python3.8/site-packages (from tensorboard!=2.5.0,>=2.2.0->pytorch-lightning) (0.13.0)\n",
      "Requirement already satisfied: protobuf>=3.6.0 in /home/alireza/miniconda3/envs/maedeh/lib/python3.8/site-packages (from tensorboard!=2.5.0,>=2.2.0->pytorch-lightning) (3.17.3)\n",
      "Requirement already satisfied: wheel>=0.26 in /home/alireza/miniconda3/envs/maedeh/lib/python3.8/site-packages (from tensorboard!=2.5.0,>=2.2.0->pytorch-lightning) (0.36.2)\n",
      "Requirement already satisfied: grpcio>=1.24.3 in /home/alireza/miniconda3/envs/maedeh/lib/python3.8/site-packages (from tensorboard!=2.5.0,>=2.2.0->pytorch-lightning) (1.38.0)\n",
      "Requirement already satisfied: google-auth<2,>=1.6.3 in /home/alireza/miniconda3/envs/maedeh/lib/python3.8/site-packages (from tensorboard!=2.5.0,>=2.2.0->pytorch-lightning) (1.31.0)\n",
      "Requirement already satisfied: werkzeug>=0.11.15 in /home/alireza/miniconda3/envs/maedeh/lib/python3.8/site-packages (from tensorboard!=2.5.0,>=2.2.0->pytorch-lightning) (2.0.1)\n",
      "Requirement already satisfied: six>=1.10.0 in /home/alireza/miniconda3/envs/maedeh/lib/python3.8/site-packages (from tensorboard!=2.5.0,>=2.2.0->pytorch-lightning) (1.16.0)\n",
      "Requirement already satisfied: google-auth-oauthlib<0.5,>=0.4.1 in /home/alireza/miniconda3/envs/maedeh/lib/python3.8/site-packages (from tensorboard!=2.5.0,>=2.2.0->pytorch-lightning) (0.4.4)\n",
      "Requirement already satisfied: tensorboard-plugin-wit>=1.6.0 in /home/alireza/miniconda3/envs/maedeh/lib/python3.8/site-packages (from tensorboard!=2.5.0,>=2.2.0->pytorch-lightning) (1.8.0)\n",
      "Requirement already satisfied: pyasn1-modules>=0.2.1 in /home/alireza/miniconda3/envs/maedeh/lib/python3.8/site-packages (from google-auth<2,>=1.6.3->tensorboard!=2.5.0,>=2.2.0->pytorch-lightning) (0.2.8)\n",
      "Requirement already satisfied: cachetools<5.0,>=2.0.0 in /home/alireza/miniconda3/envs/maedeh/lib/python3.8/site-packages (from google-auth<2,>=1.6.3->tensorboard!=2.5.0,>=2.2.0->pytorch-lightning) (4.2.2)\n",
      "Requirement already satisfied: rsa<5,>=3.1.4 in /home/alireza/miniconda3/envs/maedeh/lib/python3.8/site-packages (from google-auth<2,>=1.6.3->tensorboard!=2.5.0,>=2.2.0->pytorch-lightning) (4.7.2)\n",
      "Requirement already satisfied: requests-oauthlib>=0.7.0 in /home/alireza/miniconda3/envs/maedeh/lib/python3.8/site-packages (from google-auth-oauthlib<0.5,>=0.4.1->tensorboard!=2.5.0,>=2.2.0->pytorch-lightning) (1.3.0)\n",
      "Requirement already satisfied: pyasn1<0.5.0,>=0.4.6 in /home/alireza/miniconda3/envs/maedeh/lib/python3.8/site-packages (from pyasn1-modules>=0.2.1->google-auth<2,>=1.6.3->tensorboard!=2.5.0,>=2.2.0->pytorch-lightning) (0.4.8)\n",
      "Requirement already satisfied: idna<3,>=2.5 in /home/alireza/miniconda3/envs/maedeh/lib/python3.8/site-packages (from requests->fsspec[http]!=2021.06.0,>=2021.05.0->pytorch-lightning) (2.10)\n",
      "Requirement already satisfied: certifi>=2017.4.17 in /home/alireza/miniconda3/envs/maedeh/lib/python3.8/site-packages (from requests->fsspec[http]!=2021.06.0,>=2021.05.0->pytorch-lightning) (2021.5.30)\n",
      "Requirement already satisfied: chardet<5,>=3.0.2 in /home/alireza/miniconda3/envs/maedeh/lib/python3.8/site-packages (from requests->fsspec[http]!=2021.06.0,>=2021.05.0->pytorch-lightning) (4.0.0)\n",
      "Requirement already satisfied: urllib3<1.27,>=1.21.1 in /home/alireza/miniconda3/envs/maedeh/lib/python3.8/site-packages (from requests->fsspec[http]!=2021.06.0,>=2021.05.0->pytorch-lightning) (1.26.4)\n",
      "Requirement already satisfied: oauthlib>=3.0.0 in /home/alireza/miniconda3/envs/maedeh/lib/python3.8/site-packages (from requests-oauthlib>=0.7.0->google-auth-oauthlib<0.5,>=0.4.1->tensorboard!=2.5.0,>=2.2.0->pytorch-lightning) (3.1.1)\n",
      "Requirement already satisfied: typing_extensions in /home/alireza/miniconda3/envs/maedeh/lib/python3.8/site-packages (from torch>=1.6->lightning-bolts) (3.7.4.3)\n",
      "Requirement already satisfied: attrs>=17.3.0 in /home/alireza/miniconda3/envs/maedeh/lib/python3.8/site-packages (from aiohttp->fsspec[http]!=2021.06.0,>=2021.05.0->pytorch-lightning) (21.2.0)\n",
      "Requirement already satisfied: multidict<7.0,>=4.5 in /home/alireza/miniconda3/envs/maedeh/lib/python3.8/site-packages (from aiohttp->fsspec[http]!=2021.06.0,>=2021.05.0->pytorch-lightning) (5.1.0)\n",
      "Requirement already satisfied: yarl<2.0,>=1.0 in /home/alireza/miniconda3/envs/maedeh/lib/python3.8/site-packages (from aiohttp->fsspec[http]!=2021.06.0,>=2021.05.0->pytorch-lightning) (1.6.3)\n",
      "Requirement already satisfied: async-timeout<4.0,>=3.0 in /home/alireza/miniconda3/envs/maedeh/lib/python3.8/site-packages (from aiohttp->fsspec[http]!=2021.06.0,>=2021.05.0->pytorch-lightning) (3.0.1)\n",
      "Requirement already satisfied: pyparsing>=2.0.2 in /home/alireza/miniconda3/envs/maedeh/lib/python3.8/site-packages (from packaging->lightning-bolts) (2.4.7)\n"
     ]
    }
   ],
   "source": [
    "  !pip install lightning-bolts pytorch-lightning"
   ]
  },
  {
   "cell_type": "code",
   "execution_count": 3,
   "metadata": {
    "id": "TzoODexgbvFG"
   },
   "outputs": [],
   "source": [
    "from pl_bolts.models.autoencoders import VAE\n",
    "from torchvision import datasets, transforms\n",
    "from pytorch_lightning import Trainer\n",
    "import matplotlib.pyplot as plt\n",
    "import torch\n",
    "import torch.nn.functional as F\n",
    "from PIL import Image\n",
    "import numpy as np"
   ]
  },
  {
   "cell_type": "code",
   "execution_count": 4,
   "metadata": {
    "id": "jtWwtb-Dlwnz"
   },
   "outputs": [],
   "source": [
    "class PerturbCIFAR10(datasets.CIFAR10):\n",
    "    def __init__(\n",
    "            self,\n",
    "            root,\n",
    "            train = True,\n",
    "            orig_transform = None,\n",
    "            perturb_transform = None,\n",
    "            target_transform = None,\n",
    "            download = False,\n",
    "    ):\n",
    "        super().__init__(root=root, train=train, transform=perturb_transform, target_transform=target_transform, download=download)\n",
    "        self.orig_transform = orig_transform\n",
    "\n",
    "    def __getitem__(self, index):\n",
    "        img, target = self.data[index], self.targets[index]\n",
    "\n",
    "        # doing this so that it is consistent with all other datasets\n",
    "        # to return a PIL Image\n",
    "        img = Image.fromarray(img)\n",
    "\n",
    "        if self.transform is not None:\n",
    "            img_perturb = self.transform(img)\n",
    "          \n",
    "        if self.orig_transform is not None:\n",
    "            img = self.orig_transform(img)\n",
    "\n",
    "        if self.target_transform is not None:\n",
    "            target = self.target_transform(target)\n",
    "\n",
    "        return img, img_perturb, target"
   ]
  },
  {
   "cell_type": "code",
   "execution_count": 5,
   "metadata": {
    "id": "yFbvUtvhJdYs"
   },
   "outputs": [],
   "source": [
    "class botlessCIFAR10(datasets.CIFAR10):\n",
    "    def __init__(\n",
    "            self,\n",
    "            root,\n",
    "            train = True,\n",
    "            transform = None,\n",
    "            target_transform = None,\n",
    "            download = False,\n",
    "    ):\n",
    "        super().__init__(root=root, train=train, transform=transform, target_transform=target_transform, download=download)\n",
    "        self.orig_transform = orig_transform\n",
    "\n",
    "    def __getitem__(self, index):\n",
    "        img, target = self.data[index], self.targets[index]\n",
    "\n",
    "        # doing this so that it is consistent with all other datasets\n",
    "        # to return a PIL Image\n",
    "        img = Image.fromarray(img)\n",
    "\n",
    "        if self.transform is not None:\n",
    "            img = self.transform(img)\n",
    "        \n",
    "\n",
    "        if self.target_transform is not None:\n",
    "            target = self.target_transform(target)\n",
    "\n",
    "        return img, img_botless, target"
   ]
  },
  {
   "cell_type": "code",
   "execution_count": 6,
   "metadata": {
    "id": "hsl7WGTYpNNL"
   },
   "outputs": [],
   "source": [
    "class JigsawPuzzleTransform:\n",
    "    def __init__(self):\n",
    "        # self.sample = x\n",
    "        pass\n",
    "\n",
    "    def __call__(self, sample):\n",
    "        five_cropped = transforms.FiveCrop(size=(16, 16))\n",
    "        five_c = list(five_cropped(sample))\n",
    "        # print(\"five_c[0].shape\",five_c[0].shape)\n",
    "        five_c = five_c[:-1]\n",
    "        np.random.shuffle(five_c)\n",
    "        puzzled = torch.zeros((3, 32, 32))\n",
    "        puzzled[:, 0:16, 0:16] = five_c[0]\n",
    "        puzzled[:, 16:32, 0:16] = five_c[1]\n",
    "        puzzled[:, 0:16, 16:32] = five_c[2]\n",
    "        puzzled[:, 16:32, 16:32] = five_c[3]\n",
    "        # print(\"five_c len\",len(five_c))\n",
    "        \n",
    "        # puzzled = torch.cat(five_c, 1)\n",
    "        # print(puzzled.shape)\n",
    "\n",
    "        return puzzled\n",
    "  "
   ]
  },
  {
   "cell_type": "code",
   "execution_count": 7,
   "metadata": {
    "id": "Zumt8HN1rlaj"
   },
   "outputs": [],
   "source": [
    "class GaussianNoise:\n",
    "    def __init__(self, mean=0., std=1.):\n",
    "        self.std = std\n",
    "        self.mean = mean\n",
    "        \n",
    "    def __call__(self, tensor):\n",
    "        return tensor + torch.randn(tensor.size()) * self.std + self.mean\n",
    "    \n",
    "    def __repr__(self):\n",
    "        return self.__class__.__name__ + '(mean={0}, std={1})'.format(self.mean, self.std)"
   ]
  },
  {
   "cell_type": "code",
   "execution_count": 8,
   "metadata": {
    "id": "SGfyY-yom9af"
   },
   "outputs": [],
   "source": [
    "transform = transforms.Compose([\n",
    "    transforms.ToTensor(),\n",
    "    # transforms.Normalize(\n",
    "    #     mean=[x / 255.0 for x in [125.3, 123.0, 113.9]],\n",
    "    #     std=[x / 255.0 for x in [63.0, 62.1, 66.7]],\n",
    "    # )\n",
    "])\n",
    "\n",
    "grayscale_transform = transforms.Compose([\n",
    "    transform,\n",
    "    transforms.Grayscale(3)\n",
    "])\n",
    "\n",
    "# noise\n",
    "gaussianNoise_transform = transforms.Compose([\n",
    "    transform,\n",
    "    GaussianNoise(0., 0.1)\n",
    "])\n",
    "\n",
    "#jigsaw_puzzle\n",
    "puzzle_transform = transforms.Compose([\n",
    "    transform,\n",
    "    JigsawPuzzleTransform()\n",
    "])"
   ]
  },
  {
   "cell_type": "markdown",
   "metadata": {
    "id": "imT3U-GP0Q45"
   },
   "source": [
    "#Gray Scaled batch"
   ]
  },
  {
   "cell_type": "code",
   "execution_count": 9,
   "metadata": {
    "colab": {
     "base_uri": "https://localhost:8080/",
     "height": 171,
     "referenced_widgets": [
      "6cb95bc91de546eaabd2cc65a52ca8d5",
      "3472c1aef5944a05b3876e004b2de2d1",
      "ad55b362015b43d286c3a8f3b1b1a6d4",
      "491ce4cac03a4e22b42ae7678164730d",
      "7be0c70d07e24ecfb760f5ac29ad482b",
      "a9d345e1cdcd4b169952843f7cfe164d",
      "017ec46232e04f0988b3abd088c16c6f",
      "69d3a3197f434b9e88f5b4693d191c50"
     ]
    },
    "id": "aMYTc3s2k8Cc",
    "outputId": "074d7ea2-481e-4040-bdab-6f4360264694"
   },
   "outputs": [
    {
     "name": "stdout",
     "output_type": "stream",
     "text": [
      "Downloading https://www.cs.toronto.edu/~kriz/cifar-10-python.tar.gz to ./data/cifar-10-python.tar.gz\n"
     ]
    },
    {
     "data": {
      "application/vnd.jupyter.widget-view+json": {
       "model_id": "ae2999aa6a7947b592eb99fb5b170ca2",
       "version_major": 2,
       "version_minor": 0
      },
      "text/plain": [
       "  0%|          | 0/170498071 [00:00<?, ?it/s]"
      ]
     },
     "metadata": {},
     "output_type": "display_data"
    },
    {
     "name": "stdout",
     "output_type": "stream",
     "text": [
      "Extracting ./data/cifar-10-python.tar.gz to ./data\n",
      "Files already downloaded and verified\n"
     ]
    }
   ],
   "source": [
    "batch_size=256\n",
    "\n",
    "trainset = PerturbCIFAR10(root='./data', train=True,\n",
    "                          download=True, orig_transform=transform, perturb_transform=grayscale_transform)\n",
    "trainloader = torch.utils.data.DataLoader(trainset, batch_size=batch_size,\n",
    "                                          shuffle=True, num_workers=8)\n",
    "\n",
    "testset = PerturbCIFAR10(root='./data', train=False,\n",
    "                         download=True, orig_transform=transform, perturb_transform=grayscale_transform)\n",
    "testloader = torch.utils.data.DataLoader(testset, batch_size=batch_size,\n",
    "                                         shuffle=False, num_workers=8)"
   ]
  },
  {
   "cell_type": "markdown",
   "metadata": {
    "id": "B08u8cco1VqT"
   },
   "source": [
    "#Gaussian Noise added batch"
   ]
  },
  {
   "cell_type": "code",
   "execution_count": null,
   "metadata": {
    "colab": {
     "base_uri": "https://localhost:8080/"
    },
    "id": "RfAtSWSp1dOe",
    "outputId": "7e9c9c68-4a35-4dae-f4f7-3bb987673e49"
   },
   "outputs": [
    {
     "name": "stdout",
     "output_type": "stream",
     "text": [
      "Files already downloaded and verified\n"
     ]
    },
    {
     "name": "stderr",
     "output_type": "stream",
     "text": [
      "/usr/local/lib/python3.7/dist-packages/torch/utils/data/dataloader.py:481: UserWarning: This DataLoader will create 8 worker processes in total. Our suggested max number of worker in current system is 2, which is smaller than what this DataLoader is going to create. Please be aware that excessive worker creation might get DataLoader running slow or even freeze, lower the worker number to avoid potential slowness/freeze if necessary.\n",
      "  cpuset_checked))\n"
     ]
    },
    {
     "name": "stdout",
     "output_type": "stream",
     "text": [
      "Files already downloaded and verified\n"
     ]
    }
   ],
   "source": [
    "batch_size=256\n",
    "\n",
    "trainset = PerturbCIFAR10(root='./data', train=True,\n",
    "                          download=True, orig_transform=transform, perturb_transform=gaussianNoise_transform)\n",
    "trainloader = torch.utils.data.DataLoader(trainset, batch_size=batch_size,\n",
    "                                          shuffle=True, num_workers=8)\n",
    "\n",
    "testset = PerturbCIFAR10(root='./data', train=False,\n",
    "                         download=True, orig_transform=transform, perturb_transform=gaussianNoise_transform)\n",
    "testloader = torch.utils.data.DataLoader(testset, batch_size=batch_size,\n",
    "                                         shuffle=False, num_workers=8)"
   ]
  },
  {
   "cell_type": "markdown",
   "metadata": {
    "id": "trVUTIT_1dyd"
   },
   "source": [
    "#Jigsaw Puzzled batch"
   ]
  },
  {
   "cell_type": "code",
   "execution_count": 17,
   "metadata": {
    "colab": {
     "base_uri": "https://localhost:8080/"
    },
    "id": "kTWKMCQh1eL-",
    "outputId": "1d975c71-f7c3-40d2-942b-168f3935ec36"
   },
   "outputs": [
    {
     "name": "stdout",
     "output_type": "stream",
     "text": [
      "Files already downloaded and verified\n",
      "Files already downloaded and verified\n"
     ]
    }
   ],
   "source": [
    "batch_size=256\n",
    "\n",
    "trainset = PerturbCIFAR10(root='./data', train=True,\n",
    "                          download=True, orig_transform=transform, perturb_transform=puzzle_transform)\n",
    "trainloader = torch.utils.data.DataLoader(trainset, batch_size=batch_size,\n",
    "                                          shuffle=True, num_workers=8)\n",
    "\n",
    "testset = PerturbCIFAR10(root='./data', train=False,\n",
    "                         download=True, orig_transform=transform, perturb_transform=puzzle_transform)\n",
    "testloader = torch.utils.data.DataLoader(testset, batch_size=batch_size,\n",
    "                                         shuffle=False, num_workers=8)"
   ]
  },
  {
   "cell_type": "code",
   "execution_count": 18,
   "metadata": {
    "colab": {
     "base_uri": "https://localhost:8080/"
    },
    "id": "WMTfMIAhnyrA",
    "outputId": "8aeacc53-e58a-4437-e4b8-20584107c2cb"
   },
   "outputs": [
    {
     "name": "stdout",
     "output_type": "stream",
     "text": [
      "torch.Size([256, 3, 32, 32]) torch.Size([256, 3, 32, 32]) torch.Size([256])\n"
     ]
    }
   ],
   "source": [
    "x, x_perturb, y = next(iter(trainloader))\n",
    "print(x.shape, x_perturb.shape, y.shape)"
   ]
  },
  {
   "cell_type": "code",
   "execution_count": 19,
   "metadata": {
    "colab": {
     "base_uri": "https://localhost:8080/",
     "height": 283
    },
    "id": "oJU1DQdFoRaM",
    "outputId": "99850d72-9314-4419-e8bf-4ea3132626fd"
   },
   "outputs": [
    {
     "data": {
      "text/plain": [
       "<matplotlib.image.AxesImage at 0x7f83937029d0>"
      ]
     },
     "execution_count": 19,
     "metadata": {},
     "output_type": "execute_result"
    },
    {
     "data": {
      "image/png": "[encoded data removed]",
      "text/plain": [
       "<Figure size 432x288 with 1 Axes>"
      ]
     },
     "metadata": {
      "needs_background": "light"
     },
     "output_type": "display_data"
    }
   ],
   "source": [
    "plt.imshow(x[0].permute(1, 2, 0).detach().cpu())"
   ]
  },
  {
   "cell_type": "code",
   "execution_count": 20,
   "metadata": {
    "colab": {
     "base_uri": "https://localhost:8080/",
     "height": 283
    },
    "id": "jmlNguTwoWkX",
    "outputId": "54024ac2-d429-4070-850f-8076389da282"
   },
   "outputs": [
    {
     "data": {
      "text/plain": [
       "<matplotlib.image.AxesImage at 0x7f83c4387b50>"
      ]
     },
     "execution_count": 20,
     "metadata": {},
     "output_type": "execute_result"
    },
    {
     "data": {
      "image/png": "[encoded data removed]",
      "text/plain": [
       "<Figure size 432x288 with 1 Axes>"
      ]
     },
     "metadata": {
      "needs_background": "light"
     },
     "output_type": "display_data"
    }
   ],
   "source": [
    "plt.imshow(x_perturb[0].permute(1, 2, 0).detach().cpu())"
   ]
  },
  {
   "cell_type": "code",
   "execution_count": 21,
   "metadata": {
    "id": "Ktj67POnjFec"
   },
   "outputs": [],
   "source": [
    "class PerturbVAE(VAE):\n",
    "    def step(self, batch, batch_idx):\n",
    "        x_orig, x_perturb, y = batch\n",
    "        z, x_hat, p, q = self._run_step(x_perturb)\n",
    "\n",
    "        recon_loss = F.mse_loss(x_hat, x_orig, reduction='mean')\n",
    "\n",
    "        log_qz = q.log_prob(z)\n",
    "        log_pz = p.log_prob(z)\n",
    "\n",
    "        kl = log_qz - log_pz\n",
    "        kl = kl.mean()\n",
    "        kl *= self.kl_coeff\n",
    "\n",
    "        loss = kl + recon_loss\n",
    "\n",
    "        logs = {\n",
    "            \"recon_loss\": recon_loss,\n",
    "            \"kl\": kl,\n",
    "            \"loss\": loss,\n",
    "        }\n",
    "        return loss, logs"
   ]
  },
  {
   "cell_type": "code",
   "execution_count": 22,
   "metadata": {
    "id": "zEJchwywcDcg"
   },
   "outputs": [],
   "source": [
    "model = PerturbVAE(enc_type='resnet18', input_height=32)\n",
    "# model = PerturbVAE(input_height=32).from_pretrained('cifar10-resnet18')"
   ]
  },
  {
   "cell_type": "code",
   "execution_count": 23,
   "metadata": {
    "colab": {
     "base_uri": "https://localhost:8080/",
     "height": 475,
     "referenced_widgets": [
      "2fcfa482df03487ba330bfd62cfa0b9e",
      "11624667ce8e48c883f9d5e58ad82427",
      "a436db254ccd4b14bceaaba2432af15b",
      "cb644688534649cba7e6e29497351b2f",
      "8727d4f5c84a4dca8a52b59c236bfad9",
      "5c77461e068f433ea70924192d870835",
      "21c78d50407940ceb9c9effe98406ca1",
      "7d39b7d54f594c4ab01e12a9ec8e334e",
      "1b91cef6e1a44a00892fba8134937657",
      "560eaa097ede40fca936135c431f7061",
      "e293112344684f3daaa1d94e9eb23dd2",
      "8fe049a898fc47faaee87fad8dc06f77",
      "624d4a0b61fa4ed3b7f6f71a5a4bb0df",
      "50b9c0aaf07e4db59ff9b9d9bd148774",
      "0864cca9ddc64f80b94e71586723ccaa",
      "0ee4c29f64fe492486d0d1b32d01063e"
     ]
    },
    "id": "MvOdj0tRdC80",
    "outputId": "f7965267-0874-4a34-e8ad-0617a2113161"
   },
   "outputs": [
    {
     "name": "stderr",
     "output_type": "stream",
     "text": [
      "GPU available: True, used: True\n",
      "TPU available: False, using: 0 TPU cores\n",
      "LOCAL_RANK: 0 - CUDA_VISIBLE_DEVICES: [0,1]\n",
      "\n",
      "  | Name    | Type          | Params\n",
      "------------------------------------------\n",
      "0 | encoder | ResNetEncoder | 11.2 M\n",
      "1 | decoder | ResNetDecoder | 8.6 M \n",
      "2 | fc_mu   | Linear        | 131 K \n",
      "3 | fc_var  | Linear        | 131 K \n",
      "------------------------------------------\n",
      "20.1 M    Trainable params\n",
      "0         Non-trainable params\n",
      "20.1 M    Total params\n",
      "80.228    Total estimated model params size (MB)\n"
     ]
    },
    {
     "data": {
      "application/vnd.jupyter.widget-view+json": {
       "model_id": "",
       "version_major": 2,
       "version_minor": 0
      },
      "text/plain": [
       "Validation sanity check: 0it [00:00, ?it/s]"
      ]
     },
     "metadata": {},
     "output_type": "display_data"
    },
    {
     "data": {
      "application/vnd.jupyter.widget-view+json": {
       "model_id": "9f0d45fb054b456ab761f101195343ad",
       "version_major": 2,
       "version_minor": 0
      },
      "text/plain": [
       "Training: 0it [00:00, ?it/s]"
      ]
     },
     "metadata": {},
     "output_type": "display_data"
    }
   ],
   "source": [
    "trainer = Trainer(gpus=1, max_epochs=30)\n",
    "trainer.fit(model, train_dataloader=trainloader)"
   ]
  },
  {
   "cell_type": "code",
   "execution_count": 24,
   "metadata": {
    "colab": {
     "base_uri": "https://localhost:8080/",
     "height": 354
    },
    "id": "7C7LMiGwfBmD",
    "outputId": "55e8e98c-161e-4bff-dbf0-13cf7b249aaa"
   },
   "outputs": [
    {
     "name": "stderr",
     "output_type": "stream",
     "text": [
      "Clipping input data to the valid range for imshow with RGB data ([0..1] for floats or [0..255] for integers).\n"
     ]
    },
    {
     "data": {
      "text/plain": [
       "<matplotlib.image.AxesImage at 0x7f83935a4550>"
      ]
     },
     "execution_count": 24,
     "metadata": {},
     "output_type": "execute_result"
    },
    {
     "data": {
      "image/png": "[encoded data removed]",
      "text/plain": [
       "<Figure size 432x288 with 1 Axes>"
      ]
     },
     "metadata": {
      "needs_background": "light"
     },
     "output_type": "display_data"
    }
   ],
   "source": [
    "plt.imshow(model(x_perturb[:1]).squeeze().permute(1, 2, 0).detach().cpu())"
   ]
  },
  {
   "cell_type": "markdown",
   "metadata": {
    "id": "WELTGUSkjfNN"
   },
   "source": [
    "# Linear Classification"
   ]
  },
  {
   "cell_type": "code",
   "execution_count": 25,
   "metadata": {
    "id": "S0RV7sd2VdmW"
   },
   "outputs": [],
   "source": [
    "from sklearn.linear_model import LogisticRegression\n",
    "from tqdm import tqdm"
   ]
  },
  {
   "cell_type": "code",
   "execution_count": 28,
   "metadata": {
    "colab": {
     "base_uri": "https://localhost:8080/"
    },
    "id": "FOfmeuuyjeMd",
    "outputId": "5bf67d4e-16bf-4459-fc82-68e0e7b7431c"
   },
   "outputs": [
    {
     "name": "stderr",
     "output_type": "stream",
     "text": [
      "\n",
      "  0%|          | 0/196 [00:00<?, ?it/s]\u001b[A\n",
      "  1%|          | 1/196 [00:05<17:22,  5.35s/it]\u001b[A\n",
      "  1%|          | 2/196 [00:07<10:40,  3.30s/it]\u001b[A\n",
      "  2%|▏         | 3/196 [00:08<08:20,  2.59s/it]\u001b[A\n",
      "  2%|▏         | 4/196 [00:10<07:09,  2.24s/it]\u001b[A\n",
      "  3%|▎         | 5/196 [00:12<06:41,  2.10s/it]\u001b[A\n",
      "  3%|▎         | 6/196 [00:14<06:25,  2.03s/it]\u001b[A\n",
      "  4%|▎         | 7/196 [00:16<06:09,  1.95s/it]\u001b[A\n",
      "  4%|▍         | 8/196 [00:17<05:53,  1.88s/it]\u001b[A\n",
      "  5%|▍         | 9/196 [00:19<05:43,  1.84s/it]\u001b[A\n",
      "  5%|▌         | 10/196 [00:21<05:45,  1.86s/it]\u001b[A\n",
      "  6%|▌         | 11/196 [00:22<05:15,  1.70s/it]\u001b[A\n",
      "  6%|▌         | 12/196 [00:24<05:10,  1.69s/it]\u001b[A\n",
      "  7%|▋         | 13/196 [00:25<04:50,  1.59s/it]\u001b[A\n",
      "  7%|▋         | 14/196 [00:27<04:42,  1.55s/it]\u001b[A\n",
      "  8%|▊         | 15/196 [00:28<04:15,  1.41s/it]\u001b[A\n",
      "  8%|▊         | 16/196 [00:29<03:59,  1.33s/it]\u001b[A\n",
      "  9%|▊         | 17/196 [00:30<03:46,  1.26s/it]\u001b[A\n",
      "  9%|▉         | 18/196 [00:31<03:37,  1.22s/it]\u001b[A\n",
      " 10%|▉         | 19/196 [00:32<03:28,  1.18s/it]\u001b[A\n",
      " 10%|█         | 20/196 [00:34<03:23,  1.15s/it]\u001b[A\n",
      " 11%|█         | 21/196 [00:35<03:18,  1.14s/it]\u001b[A\n",
      " 11%|█         | 22/196 [00:36<03:16,  1.13s/it]\u001b[A\n",
      " 12%|█▏        | 23/196 [00:37<03:15,  1.13s/it]\u001b[A\n",
      " 12%|█▏        | 24/196 [00:38<03:15,  1.13s/it]\u001b[A\n",
      " 13%|█▎        | 25/196 [00:39<03:11,  1.12s/it]\u001b[A\n",
      " 13%|█▎        | 26/196 [00:40<03:10,  1.12s/it]\u001b[A\n",
      " 14%|█▍        | 27/196 [00:41<03:13,  1.14s/it]\u001b[A\n",
      " 14%|█▍        | 28/196 [00:43<03:11,  1.14s/it]\u001b[A\n",
      " 15%|█▍        | 29/196 [00:44<03:09,  1.14s/it]\u001b[A\n",
      " 15%|█▌        | 30/196 [00:45<03:09,  1.14s/it]\u001b[A\n",
      " 16%|█▌        | 31/196 [00:46<03:10,  1.15s/it]\u001b[A\n",
      " 16%|█▋        | 32/196 [00:47<03:11,  1.17s/it]\u001b[A\n",
      " 17%|█▋        | 33/196 [00:48<03:08,  1.16s/it]\u001b[A\n",
      " 17%|█▋        | 34/196 [00:50<03:07,  1.16s/it]\u001b[A\n",
      " 18%|█▊        | 35/196 [00:51<03:04,  1.14s/it]\u001b[A\n",
      " 18%|█▊        | 36/196 [00:52<03:00,  1.13s/it]\u001b[A\n",
      " 19%|█▉        | 37/196 [00:53<02:58,  1.12s/it]\u001b[A\n",
      " 19%|█▉        | 38/196 [00:54<02:55,  1.11s/it]\u001b[A\n",
      " 20%|█▉        | 39/196 [00:55<02:53,  1.10s/it]\u001b[A\n",
      " 20%|██        | 40/196 [00:56<02:52,  1.10s/it]\u001b[A\n",
      " 21%|██        | 41/196 [00:57<02:49,  1.09s/it]\u001b[A\n",
      " 21%|██▏       | 42/196 [00:58<02:48,  1.09s/it]\u001b[A\n",
      " 22%|██▏       | 43/196 [00:59<02:45,  1.08s/it]\u001b[A\n",
      " 22%|██▏       | 44/196 [01:00<02:46,  1.09s/it]\u001b[A\n",
      " 23%|██▎       | 45/196 [01:02<02:44,  1.09s/it]\u001b[A\n",
      " 23%|██▎       | 46/196 [01:03<02:44,  1.10s/it]\u001b[A\n",
      " 24%|██▍       | 47/196 [01:04<02:45,  1.11s/it]\u001b[A\n",
      " 24%|██▍       | 48/196 [01:05<02:44,  1.11s/it]\u001b[A\n",
      " 25%|██▌       | 49/196 [01:06<02:43,  1.11s/it]\u001b[A\n",
      " 26%|██▌       | 50/196 [01:07<02:43,  1.12s/it]\u001b[A\n",
      " 26%|██▌       | 51/196 [01:08<02:39,  1.10s/it]\u001b[A\n",
      " 27%|██▋       | 52/196 [01:09<02:38,  1.10s/it]\u001b[A\n",
      " 27%|██▋       | 53/196 [01:10<02:36,  1.09s/it]\u001b[A\n",
      " 28%|██▊       | 54/196 [01:11<02:36,  1.10s/it]\u001b[A\n",
      " 28%|██▊       | 55/196 [01:13<02:36,  1.11s/it]\u001b[A\n",
      " 29%|██▊       | 56/196 [01:14<02:34,  1.10s/it]\u001b[A\n",
      " 29%|██▉       | 57/196 [01:15<02:31,  1.09s/it]\u001b[A\n",
      " 30%|██▉       | 58/196 [01:16<02:31,  1.10s/it]\u001b[A\n",
      " 30%|███       | 59/196 [01:17<02:30,  1.10s/it]\u001b[A\n",
      " 31%|███       | 60/196 [01:18<02:31,  1.11s/it]\u001b[A\n",
      " 31%|███       | 61/196 [01:19<02:27,  1.10s/it]\u001b[A\n",
      " 32%|███▏      | 62/196 [01:20<02:28,  1.11s/it]\u001b[A\n",
      " 32%|███▏      | 63/196 [01:21<02:27,  1.11s/it]\u001b[A\n",
      " 33%|███▎      | 64/196 [01:23<02:29,  1.13s/it]\u001b[A\n",
      " 33%|███▎      | 65/196 [01:24<02:28,  1.13s/it]\u001b[A\n",
      " 34%|███▎      | 66/196 [01:25<02:26,  1.13s/it]\u001b[A\n",
      " 34%|███▍      | 67/196 [01:26<02:26,  1.13s/it]\u001b[A\n",
      " 35%|███▍      | 68/196 [01:27<02:24,  1.13s/it]\u001b[A\n",
      " 35%|███▌      | 69/196 [01:28<02:21,  1.12s/it]\u001b[A\n",
      " 36%|███▌      | 70/196 [01:29<02:21,  1.12s/it]\u001b[A\n",
      " 36%|███▌      | 71/196 [01:30<02:20,  1.12s/it]\u001b[A\n",
      " 37%|███▋      | 72/196 [01:32<02:20,  1.13s/it]\u001b[A\n",
      " 37%|███▋      | 73/196 [01:33<02:18,  1.13s/it]\u001b[A\n",
      " 38%|███▊      | 74/196 [01:34<02:16,  1.12s/it]\u001b[A\n",
      " 38%|███▊      | 75/196 [01:35<02:14,  1.11s/it]\u001b[A\n",
      " 39%|███▉      | 76/196 [01:36<02:12,  1.10s/it]\u001b[A\n",
      " 39%|███▉      | 77/196 [01:37<02:12,  1.12s/it]\u001b[A\n",
      " 40%|███▉      | 78/196 [01:38<02:10,  1.11s/it]\u001b[A\n",
      " 40%|████      | 79/196 [01:39<02:08,  1.10s/it]\u001b[A\n",
      " 41%|████      | 80/196 [01:40<02:08,  1.11s/it]\u001b[A\n",
      " 41%|████▏     | 81/196 [01:42<02:09,  1.13s/it]\u001b[A\n",
      " 42%|████▏     | 82/196 [01:43<02:09,  1.13s/it]\u001b[A\n",
      " 42%|████▏     | 83/196 [01:44<02:06,  1.12s/it]\u001b[A\n",
      " 43%|████▎     | 84/196 [01:45<02:04,  1.11s/it]\u001b[A\n",
      " 43%|████▎     | 85/196 [01:46<02:03,  1.11s/it]\u001b[A\n",
      " 44%|████▍     | 86/196 [01:47<02:02,  1.11s/it]\u001b[A\n",
      " 44%|████▍     | 87/196 [01:48<02:01,  1.11s/it]\u001b[A\n",
      " 45%|████▍     | 88/196 [01:49<01:59,  1.11s/it]\u001b[A\n",
      " 45%|████▌     | 89/196 [01:51<01:58,  1.11s/it]\u001b[A\n",
      " 46%|████▌     | 90/196 [01:52<01:56,  1.10s/it]\u001b[A\n",
      " 46%|████▋     | 91/196 [01:53<01:55,  1.10s/it]\u001b[A\n",
      " 47%|████▋     | 92/196 [01:54<01:56,  1.12s/it]\u001b[A\n",
      " 47%|████▋     | 93/196 [01:55<01:55,  1.12s/it]\u001b[A\n",
      " 48%|████▊     | 94/196 [01:56<01:54,  1.13s/it]\u001b[A\n",
      " 48%|████▊     | 95/196 [01:57<01:54,  1.14s/it]\u001b[A\n",
      " 49%|████▉     | 96/196 [01:59<01:56,  1.16s/it]\u001b[A\n",
      " 49%|████▉     | 97/196 [02:00<02:05,  1.27s/it]\u001b[A\n",
      " 50%|█████     | 98/196 [02:01<02:08,  1.31s/it]\u001b[A\n",
      " 51%|█████     | 99/196 [02:03<02:07,  1.31s/it]\u001b[A\n",
      " 51%|█████     | 100/196 [02:04<02:06,  1.32s/it]\u001b[A\n",
      " 52%|█████▏    | 101/196 [02:05<02:04,  1.31s/it]\u001b[A\n",
      " 52%|█████▏    | 102/196 [02:07<02:06,  1.34s/it]\u001b[A\n",
      " 53%|█████▎    | 103/196 [02:08<02:05,  1.35s/it]\u001b[A\n",
      " 53%|█████▎    | 104/196 [02:10<02:06,  1.37s/it]\u001b[A\n",
      " 54%|█████▎    | 105/196 [02:11<02:01,  1.33s/it]\u001b[A\n",
      " 54%|█████▍    | 106/196 [02:12<02:07,  1.41s/it]\u001b[A\n",
      " 55%|█████▍    | 107/196 [02:14<02:03,  1.39s/it]\u001b[A\n",
      " 55%|█████▌    | 108/196 [02:15<01:58,  1.35s/it]\u001b[A\n",
      " 56%|█████▌    | 109/196 [02:16<01:57,  1.36s/it]\u001b[A\n",
      " 56%|█████▌    | 110/196 [02:18<01:58,  1.37s/it]\u001b[A\n",
      " 57%|█████▋    | 111/196 [02:19<01:58,  1.39s/it]\u001b[A\n",
      " 57%|█████▋    | 112/196 [02:21<01:55,  1.38s/it]\u001b[A\n",
      " 58%|█████▊    | 113/196 [02:22<01:54,  1.37s/it]\u001b[A\n",
      " 58%|█████▊    | 114/196 [02:23<01:53,  1.39s/it]\u001b[A\n",
      " 59%|█████▊    | 115/196 [02:25<01:50,  1.37s/it]\u001b[A\n",
      " 59%|█████▉    | 116/196 [02:26<01:49,  1.36s/it]\u001b[A\n",
      " 60%|█████▉    | 117/196 [02:27<01:49,  1.38s/it]\u001b[A\n",
      " 60%|██████    | 118/196 [02:29<01:46,  1.36s/it]\u001b[A\n",
      " 61%|██████    | 119/196 [02:30<01:46,  1.39s/it]\u001b[A\n",
      " 61%|██████    | 120/196 [02:32<01:45,  1.39s/it]\u001b[A\n",
      " 62%|██████▏   | 121/196 [02:33<01:43,  1.38s/it]\u001b[A\n",
      " 62%|██████▏   | 122/196 [02:34<01:41,  1.37s/it]\u001b[A\n",
      " 63%|██████▎   | 123/196 [02:36<01:39,  1.36s/it]\u001b[A\n",
      " 63%|██████▎   | 124/196 [02:37<01:39,  1.38s/it]\u001b[A\n",
      " 64%|██████▍   | 125/196 [02:39<01:38,  1.39s/it]\u001b[A\n",
      " 64%|██████▍   | 126/196 [02:40<01:34,  1.35s/it]\u001b[A\n",
      " 65%|██████▍   | 127/196 [02:41<01:33,  1.35s/it]\u001b[A\n",
      " 65%|██████▌   | 128/196 [02:42<01:31,  1.35s/it]\u001b[A\n",
      " 66%|██████▌   | 129/196 [02:44<01:29,  1.34s/it]\u001b[A\n",
      " 66%|██████▋   | 130/196 [02:45<01:27,  1.32s/it]\u001b[A\n",
      " 67%|██████▋   | 131/196 [02:46<01:26,  1.33s/it]\u001b[A\n",
      " 67%|██████▋   | 132/196 [02:48<01:25,  1.34s/it]\u001b[A\n",
      " 68%|██████▊   | 133/196 [02:49<01:24,  1.34s/it]\u001b[A\n",
      " 68%|██████▊   | 134/196 [02:50<01:23,  1.35s/it]\u001b[A\n",
      " 69%|██████▉   | 135/196 [02:52<01:21,  1.33s/it]\u001b[A\n",
      " 69%|██████▉   | 136/196 [02:53<01:18,  1.30s/it]\u001b[A\n",
      " 70%|██████▉   | 137/196 [02:54<01:14,  1.26s/it]\u001b[A\n",
      " 70%|███████   | 138/196 [02:55<01:11,  1.23s/it]\u001b[A\n",
      " 71%|███████   | 139/196 [02:56<01:08,  1.20s/it]\u001b[A\n",
      " 71%|███████▏  | 140/196 [02:58<01:06,  1.18s/it]\u001b[A\n",
      " 72%|███████▏  | 141/196 [02:59<01:04,  1.16s/it]\u001b[A\n",
      " 72%|███████▏  | 142/196 [03:00<01:03,  1.17s/it]\u001b[A\n",
      " 73%|███████▎  | 143/196 [03:01<01:02,  1.18s/it]\u001b[A\n",
      " 73%|███████▎  | 144/196 [03:02<01:01,  1.19s/it]\u001b[A\n",
      " 74%|███████▍  | 145/196 [03:03<00:59,  1.16s/it]\u001b[A\n",
      " 74%|███████▍  | 146/196 [03:05<00:57,  1.14s/it]\u001b[A\n",
      " 75%|███████▌  | 147/196 [03:06<00:56,  1.15s/it]\u001b[A\n",
      " 76%|███████▌  | 148/196 [03:07<00:54,  1.13s/it]\u001b[A\n",
      " 76%|███████▌  | 149/196 [03:08<00:53,  1.15s/it]\u001b[A\n",
      " 77%|███████▋  | 150/196 [03:09<00:52,  1.14s/it]\u001b[A\n",
      " 77%|███████▋  | 151/196 [03:10<00:51,  1.15s/it]\u001b[A\n",
      " 78%|███████▊  | 152/196 [03:11<00:49,  1.13s/it]\u001b[A\n",
      " 78%|███████▊  | 153/196 [03:12<00:49,  1.14s/it]\u001b[A\n",
      " 79%|███████▊  | 154/196 [03:14<00:46,  1.12s/it]\u001b[A\n",
      " 79%|███████▉  | 155/196 [03:15<00:45,  1.12s/it]\u001b[A\n"
     ]
    },
    {
     "name": "stderr",
     "output_type": "stream",
     "text": [
      " 80%|███████▉  | 156/196 [03:16<00:44,  1.12s/it]\u001b[A\n",
      " 80%|████████  | 157/196 [03:17<00:43,  1.13s/it]\u001b[A\n",
      " 81%|████████  | 158/196 [03:18<00:42,  1.12s/it]\u001b[A\n",
      " 81%|████████  | 159/196 [03:19<00:42,  1.15s/it]\u001b[A\n",
      " 82%|████████▏ | 160/196 [03:20<00:40,  1.14s/it]\u001b[A\n",
      " 82%|████████▏ | 161/196 [03:22<00:39,  1.14s/it]\u001b[A\n",
      " 83%|████████▎ | 162/196 [03:23<00:38,  1.13s/it]\u001b[A\n",
      " 83%|████████▎ | 163/196 [03:24<00:36,  1.11s/it]\u001b[A\n",
      " 84%|████████▎ | 164/196 [03:25<00:35,  1.11s/it]\u001b[A\n",
      " 84%|████████▍ | 165/196 [03:26<00:34,  1.11s/it]\u001b[A\n",
      " 85%|████████▍ | 166/196 [03:27<00:32,  1.10s/it]\u001b[A\n",
      " 85%|████████▌ | 167/196 [03:28<00:31,  1.09s/it]\u001b[A\n",
      " 86%|████████▌ | 168/196 [03:29<00:30,  1.09s/it]\u001b[A\n",
      " 86%|████████▌ | 169/196 [03:30<00:29,  1.10s/it]\u001b[A\n",
      " 87%|████████▋ | 170/196 [03:31<00:28,  1.09s/it]\u001b[A\n",
      " 87%|████████▋ | 171/196 [03:32<00:27,  1.10s/it]\u001b[A\n",
      " 88%|████████▊ | 172/196 [03:34<00:26,  1.10s/it]\u001b[A\n",
      " 88%|████████▊ | 173/196 [03:35<00:25,  1.09s/it]\u001b[A\n",
      " 89%|████████▉ | 174/196 [03:36<00:23,  1.08s/it]\u001b[A\n",
      " 89%|████████▉ | 175/196 [03:37<00:22,  1.07s/it]\u001b[A\n",
      " 90%|████████▉ | 176/196 [03:38<00:20,  1.05s/it]\u001b[A\n",
      " 90%|█████████ | 177/196 [03:39<00:19,  1.05s/it]\u001b[A\n",
      " 91%|█████████ | 178/196 [03:40<00:19,  1.07s/it]\u001b[A\n",
      " 91%|█████████▏| 179/196 [03:41<00:18,  1.09s/it]\u001b[A\n",
      " 92%|█████████▏| 180/196 [03:42<00:17,  1.09s/it]\u001b[A\n",
      " 92%|█████████▏| 181/196 [03:43<00:16,  1.11s/it]\u001b[A\n",
      " 93%|█████████▎| 182/196 [03:44<00:15,  1.10s/it]\u001b[A\n",
      " 93%|█████████▎| 183/196 [03:45<00:14,  1.11s/it]\u001b[A\n",
      " 94%|█████████▍| 184/196 [03:47<00:13,  1.12s/it]\u001b[A\n",
      " 94%|█████████▍| 185/196 [03:48<00:12,  1.13s/it]\u001b[A\n",
      " 95%|█████████▍| 186/196 [03:49<00:11,  1.12s/it]\u001b[A\n",
      " 95%|█████████▌| 187/196 [03:50<00:10,  1.13s/it]\u001b[A\n",
      " 96%|█████████▌| 188/196 [03:51<00:09,  1.13s/it]\u001b[A\n",
      " 96%|█████████▋| 189/196 [03:52<00:07,  1.13s/it]\u001b[A\n",
      " 97%|█████████▋| 190/196 [03:53<00:06,  1.11s/it]\u001b[A\n",
      " 97%|█████████▋| 191/196 [03:54<00:05,  1.11s/it]\u001b[A\n",
      " 98%|█████████▊| 192/196 [03:56<00:04,  1.10s/it]\u001b[A\n",
      " 98%|█████████▊| 193/196 [03:57<00:03,  1.10s/it]\u001b[A\n",
      " 99%|█████████▉| 194/196 [03:58<00:02,  1.09s/it]\u001b[A\n",
      " 99%|█████████▉| 195/196 [03:59<00:01,  1.08s/it]\u001b[A\n",
      "100%|██████████| 196/196 [04:00<00:00,  1.23s/it]\u001b[A\n"
     ]
    }
   ],
   "source": [
    "latent = []\n",
    "labels = []\n",
    "for idx, (x, x_perturb, y) in enumerate(tqdm(trainloader)):\n",
    "#     z, x_hat, p, q = model._run_step(x_perturb)\n",
    "    x = model.encoder(x)\n",
    "\n",
    "    mu = model.fc_mu(x)\n",
    "\n",
    "    log_var = model.fc_var(x)\n",
    "\n",
    "    p, q, z = model.sample(mu, log_var)\n",
    "        \n",
    "    z=z.detach().cpu().numpy()\n",
    "    latent.append(z)\n",
    "    labels.append(y)\n",
    "# x, x_perturb, y = next(iter(trainloader))"
   ]
  },
  {
   "cell_type": "code",
   "execution_count": 29,
   "metadata": {
    "id": "BOG_LoVLmpfy"
   },
   "outputs": [],
   "source": [
    "z = np.concatenate(latent)"
   ]
  },
  {
   "cell_type": "code",
   "execution_count": 30,
   "metadata": {
    "id": "bEyMjak7KjmH"
   },
   "outputs": [],
   "source": [
    "y = np.concatenate(labels)"
   ]
  },
  {
   "cell_type": "code",
   "execution_count": 31,
   "metadata": {
    "id": "6V493gjlnxll"
   },
   "outputs": [],
   "source": [
    "clf = LogisticRegression(random_state=0, max_iter=5000).fit(z, y)"
   ]
  },
  {
   "cell_type": "code",
   "execution_count": 32,
   "metadata": {
    "colab": {
     "base_uri": "https://localhost:8080/"
    },
    "id": "Mk5tMvxgYMNk",
    "outputId": "3bd60940-e002-48ef-e034-5057b50115db"
   },
   "outputs": [
    {
     "data": {
      "text/plain": [
       "0.31556"
      ]
     },
     "execution_count": 32,
     "metadata": {},
     "output_type": "execute_result"
    }
   ],
   "source": [
    "clf.score(z, y)"
   ]
  },
  {
   "cell_type": "code",
   "execution_count": 33,
   "metadata": {},
   "outputs": [
    {
     "name": "stderr",
     "output_type": "stream",
     "text": [
      "\n",
      "  0%|          | 0/40 [00:00<?, ?it/s]\u001b[A\n",
      "  2%|▎         | 1/40 [00:04<02:42,  4.16s/it]\u001b[A\n",
      "  5%|▌         | 2/40 [00:05<01:37,  2.56s/it]\u001b[A\n",
      "  8%|▊         | 3/40 [00:06<01:11,  1.92s/it]\u001b[A\n",
      " 10%|█         | 4/40 [00:07<00:57,  1.60s/it]\u001b[A\n",
      " 12%|█▎        | 5/40 [00:08<00:48,  1.39s/it]\u001b[A\n",
      " 15%|█▌        | 6/40 [00:09<00:43,  1.28s/it]\u001b[A\n",
      " 18%|█▊        | 7/40 [00:10<00:39,  1.20s/it]\u001b[A\n",
      " 20%|██        | 8/40 [00:12<00:37,  1.16s/it]\u001b[A\n",
      " 22%|██▎       | 9/40 [00:13<00:34,  1.12s/it]\u001b[A\n",
      " 25%|██▌       | 10/40 [00:14<00:32,  1.10s/it]\u001b[A\n",
      " 28%|██▊       | 11/40 [00:15<00:31,  1.09s/it]\u001b[A\n",
      " 30%|███       | 12/40 [00:16<00:31,  1.14s/it]\u001b[A\n",
      " 32%|███▎      | 13/40 [00:17<00:31,  1.15s/it]\u001b[A\n",
      " 35%|███▌      | 14/40 [00:18<00:29,  1.12s/it]\u001b[A\n",
      " 38%|███▊      | 15/40 [00:19<00:27,  1.09s/it]\u001b[A\n",
      " 40%|████      | 16/40 [00:20<00:25,  1.06s/it]\u001b[A\n",
      " 42%|████▎     | 17/40 [00:21<00:24,  1.06s/it]\u001b[A\n",
      " 45%|████▌     | 18/40 [00:22<00:23,  1.07s/it]\u001b[A\n",
      " 48%|████▊     | 19/40 [00:23<00:22,  1.06s/it]\u001b[A\n",
      " 50%|█████     | 20/40 [00:25<00:21,  1.07s/it]\u001b[A\n",
      " 52%|█████▎    | 21/40 [00:26<00:20,  1.08s/it]\u001b[A\n",
      " 55%|█████▌    | 22/40 [00:27<00:20,  1.12s/it]\u001b[A\n",
      " 57%|█████▊    | 23/40 [00:28<00:19,  1.13s/it]\u001b[A\n",
      " 60%|██████    | 24/40 [00:29<00:17,  1.10s/it]\u001b[A\n",
      " 62%|██████▎   | 25/40 [00:30<00:16,  1.09s/it]\u001b[A\n",
      " 65%|██████▌   | 26/40 [00:31<00:15,  1.09s/it]\u001b[A\n",
      " 68%|██████▊   | 27/40 [00:32<00:14,  1.08s/it]\u001b[A\n",
      " 70%|███████   | 28/40 [00:33<00:12,  1.08s/it]\u001b[A\n",
      " 72%|███████▎  | 29/40 [00:34<00:11,  1.03s/it]\u001b[A\n",
      " 75%|███████▌  | 30/40 [00:35<00:10,  1.06s/it]\u001b[A\n",
      " 78%|███████▊  | 31/40 [00:36<00:09,  1.06s/it]\u001b[A\n",
      " 80%|████████  | 32/40 [00:38<00:08,  1.08s/it]\u001b[A\n",
      " 82%|████████▎ | 33/40 [00:39<00:07,  1.11s/it]\u001b[A\n",
      " 85%|████████▌ | 34/40 [00:40<00:06,  1.12s/it]\u001b[A\n",
      " 88%|████████▊ | 35/40 [00:41<00:05,  1.14s/it]\u001b[A\n",
      " 90%|█████████ | 36/40 [00:42<00:04,  1.12s/it]\u001b[A\n",
      " 92%|█████████▎| 37/40 [00:43<00:03,  1.11s/it]\u001b[A\n",
      " 95%|█████████▌| 38/40 [00:44<00:02,  1.09s/it]\u001b[A\n",
      " 98%|█████████▊| 39/40 [00:45<00:01,  1.10s/it]\u001b[A\n",
      "100%|██████████| 40/40 [00:46<00:00,  1.17s/it]\u001b[A\n"
     ]
    }
   ],
   "source": [
    "latent2 = []\n",
    "labels2 = []\n",
    "for idx, (x, x_perturb, y) in enumerate(tqdm(testloader)):\n",
    "#     z, x_hat, p, q = model._run_step(x_perturb)\n",
    "    x = model.encoder(x)\n",
    "\n",
    "    mu = model.fc_mu(x)\n",
    "\n",
    "    log_var = model.fc_var(x)\n",
    "\n",
    "    p, q, z = model.sample(mu, log_var)\n",
    "    \n",
    "    z=z.detach().cpu().numpy()\n",
    "    latent2.append(z)\n",
    "    labels2.append(y)"
   ]
  },
  {
   "cell_type": "code",
   "execution_count": 34,
   "metadata": {},
   "outputs": [],
   "source": [
    "z = np.concatenate(latent2)"
   ]
  },
  {
   "cell_type": "code",
   "execution_count": 35,
   "metadata": {
    "id": "bEyMjak7KjmH"
   },
   "outputs": [],
   "source": [
    "y = np.concatenate(labels2)"
   ]
  },
  {
   "cell_type": "code",
   "execution_count": 36,
   "metadata": {
    "id": "6V493gjlnxll"
   },
   "outputs": [],
   "source": [
    "clf = LogisticRegression(random_state=0, max_iter=5000).fit(z, y)"
   ]
  },
  {
   "cell_type": "code",
   "execution_count": 37,
   "metadata": {
    "colab": {
     "base_uri": "https://localhost:8080/"
    },
    "id": "Mk5tMvxgYMNk",
    "outputId": "3bd60940-e002-48ef-e034-5057b50115db"
   },
   "outputs": [
    {
     "data": {
      "text/plain": [
       "0.359"
      ]
     },
     "execution_count": 37,
     "metadata": {},
     "output_type": "execute_result"
    }
   ],
   "source": [
    "clf.score(z, y)"
   ]
  }
 ],
 "metadata": {
  "accelerator": "GPU",
  "colab": {
   "collapsed_sections": [],
   "name": "VAE.ipynb",
   "provenance": []
  },
  "kernelspec": {
   "display_name": "Python 3",
   "language": "python",
   "name": "python3"
  },
  "language_info": {
   "codemirror_mode": {
    "name": "ipython",
    "version": 3
   },
   "file_extension": ".py",
   "mimetype": "text/x-python",
   "name": "python",
   "nbconvert_exporter": "python",
   "pygments_lexer": "ipython3",
   "version": "3.8.10"
  },
  "widgets": {
   "application/vnd.jupyter.widget-state+json": {
    "017ec46232e04f0988b3abd088c16c6f": {
     "model_module": "@jupyter-widgets/base",
     "model_name": "LayoutModel",
     "state": {
      "_model_module": "@jupyter-widgets/base",
      "_model_module_version": "1.2.0",
      "_model_name": "LayoutModel",
      "_view_count": null,
      "_view_module": "@jupyter-widgets/base",
      "_view_module_version": "1.2.0",
      "_view_name": "LayoutView",
      "align_content": null,
      "align_items": null,
      "align_self": null,
      "border": null,
      "bottom": null,
      "display": null,
      "flex": null,
      "flex_flow": null,
      "grid_area": null,
      "grid_auto_columns": null,
      "grid_auto_flow": null,
      "grid_auto_rows": null,
      "grid_column": null,
      "grid_gap": null,
      "grid_row": null,
      "grid_template_areas": null,
      "grid_template_columns": null,
      "grid_template_rows": null,
      "height": null,
      "justify_content": null,
      "justify_items": null,
      "left": null,
      "margin": null,
      "max_height": null,
      "max_width": null,
      "min_height": null,
      "min_width": null,
      "object_fit": null,
      "object_position": null,
      "order": null,
      "overflow": null,
      "overflow_x": null,
      "overflow_y": null,
      "padding": null,
      "right": null,
      "top": null,
      "visibility": null,
      "width": null
     }
    },
    "0864cca9ddc64f80b94e71586723ccaa": {
     "model_module": "@jupyter-widgets/base",
     "model_name": "LayoutModel",
     "state": {
      "_model_module": "@jupyter-widgets/base",
      "_model_module_version": "1.2.0",
      "_model_name": "LayoutModel",
      "_view_count": null,
      "_view_module": "@jupyter-widgets/base",
      "_view_module_version": "1.2.0",
      "_view_name": "LayoutView",
      "align_content": null,
      "align_items": null,
      "align_self": null,
      "border": null,
      "bottom": null,
      "display": null,
      "flex": null,
      "flex_flow": null,
      "grid_area": null,
      "grid_auto_columns": null,
      "grid_auto_flow": null,
      "grid_auto_rows": null,
      "grid_column": null,
      "grid_gap": null,
      "grid_row": null,
      "grid_template_areas": null,
      "grid_template_columns": null,
      "grid_template_rows": null,
      "height": null,
      "justify_content": null,
      "justify_items": null,
      "left": null,
      "margin": null,
      "max_height": null,
      "max_width": null,
      "min_height": null,
      "min_width": null,
      "object_fit": null,
      "object_position": null,
      "order": null,
      "overflow": null,
      "overflow_x": null,
      "overflow_y": null,
      "padding": null,
      "right": null,
      "top": null,
      "visibility": null,
      "width": null
     }
    },
    "0ee4c29f64fe492486d0d1b32d01063e": {
     "model_module": "@jupyter-widgets/controls",
     "model_name": "DescriptionStyleModel",
     "state": {
      "_model_module": "@jupyter-widgets/controls",
      "_model_module_version": "1.5.0",
      "_model_name": "DescriptionStyleModel",
      "_view_count": null,
      "_view_module": "@jupyter-widgets/base",
      "_view_module_version": "1.2.0",
      "_view_name": "StyleView",
      "description_width": ""
     }
    },
    "11624667ce8e48c883f9d5e58ad82427": {
     "model_module": "@jupyter-widgets/controls",
     "model_name": "FloatProgressModel",
     "state": {
      "_dom_classes": [],
      "_model_module": "@jupyter-widgets/controls",
      "_model_module_version": "1.5.0",
      "_model_name": "FloatProgressModel",
      "_view_count": null,
      "_view_module": "@jupyter-widgets/controls",
      "_view_module_version": "1.5.0",
      "_view_name": "ProgressView",
      "bar_style": "info",
      "description": "Validation sanity check: ",
      "description_tooltip": null,
      "layout": "IPY_MODEL_8727d4f5c84a4dca8a52b59c236bfad9",
      "max": 1,
      "min": 0,
      "orientation": "horizontal",
      "style": "IPY_MODEL_5c77461e068f433ea70924192d870835",
      "value": 0
     }
    },
    "1b91cef6e1a44a00892fba8134937657": {
     "model_module": "@jupyter-widgets/controls",
     "model_name": "HBoxModel",
     "state": {
      "_dom_classes": [],
      "_model_module": "@jupyter-widgets/controls",
      "_model_module_version": "1.5.0",
      "_model_name": "HBoxModel",
      "_view_count": null,
      "_view_module": "@jupyter-widgets/controls",
      "_view_module_version": "1.5.0",
      "_view_name": "HBoxView",
      "box_style": "",
      "children": [
       "IPY_MODEL_560eaa097ede40fca936135c431f7061",
       "IPY_MODEL_e293112344684f3daaa1d94e9eb23dd2"
      ],
      "layout": "IPY_MODEL_8fe049a898fc47faaee87fad8dc06f77"
     }
    },
    "21c78d50407940ceb9c9effe98406ca1": {
     "model_module": "@jupyter-widgets/base",
     "model_name": "LayoutModel",
     "state": {
      "_model_module": "@jupyter-widgets/base",
      "_model_module_version": "1.2.0",
      "_model_name": "LayoutModel",
      "_view_count": null,
      "_view_module": "@jupyter-widgets/base",
      "_view_module_version": "1.2.0",
      "_view_name": "LayoutView",
      "align_content": null,
      "align_items": null,
      "align_self": null,
      "border": null,
      "bottom": null,
      "display": null,
      "flex": null,
      "flex_flow": null,
      "grid_area": null,
      "grid_auto_columns": null,
      "grid_auto_flow": null,
      "grid_auto_rows": null,
      "grid_column": null,
      "grid_gap": null,
      "grid_row": null,
      "grid_template_areas": null,
      "grid_template_columns": null,
      "grid_template_rows": null,
      "height": null,
      "justify_content": null,
      "justify_items": null,
      "left": null,
      "margin": null,
      "max_height": null,
      "max_width": null,
      "min_height": null,
      "min_width": null,
      "object_fit": null,
      "object_position": null,
      "order": null,
      "overflow": null,
      "overflow_x": null,
      "overflow_y": null,
      "padding": null,
      "right": null,
      "top": null,
      "visibility": null,
      "width": null
     }
    },
    "2fcfa482df03487ba330bfd62cfa0b9e": {
     "model_module": "@jupyter-widgets/controls",
     "model_name": "HBoxModel",
     "state": {
      "_dom_classes": [],
      "_model_module": "@jupyter-widgets/controls",
      "_model_module_version": "1.5.0",
      "_model_name": "HBoxModel",
      "_view_count": null,
      "_view_module": "@jupyter-widgets/controls",
      "_view_module_version": "1.5.0",
      "_view_name": "HBoxView",
      "box_style": "",
      "children": [
       "IPY_MODEL_11624667ce8e48c883f9d5e58ad82427",
       "IPY_MODEL_a436db254ccd4b14bceaaba2432af15b"
      ],
      "layout": "IPY_MODEL_cb644688534649cba7e6e29497351b2f"
     }
    },
    "3472c1aef5944a05b3876e004b2de2d1": {
     "model_module": "@jupyter-widgets/controls",
     "model_name": "FloatProgressModel",
     "state": {
      "_dom_classes": [],
      "_model_module": "@jupyter-widgets/controls",
      "_model_module_version": "1.5.0",
      "_model_name": "FloatProgressModel",
      "_view_count": null,
      "_view_module": "@jupyter-widgets/controls",
      "_view_module_version": "1.5.0",
      "_view_name": "ProgressView",
      "bar_style": "success",
      "description": "",
      "description_tooltip": null,
      "layout": "IPY_MODEL_7be0c70d07e24ecfb760f5ac29ad482b",
      "max": 170498071,
      "min": 0,
      "orientation": "horizontal",
      "style": "IPY_MODEL_a9d345e1cdcd4b169952843f7cfe164d",
      "value": 170498071
     }
    },
    "491ce4cac03a4e22b42ae7678164730d": {
     "model_module": "@jupyter-widgets/base",
     "model_name": "LayoutModel",
     "state": {
      "_model_module": "@jupyter-widgets/base",
      "_model_module_version": "1.2.0",
      "_model_name": "LayoutModel",
      "_view_count": null,
      "_view_module": "@jupyter-widgets/base",
      "_view_module_version": "1.2.0",
      "_view_name": "LayoutView",
      "align_content": null,
      "align_items": null,
      "align_self": null,
      "border": null,
      "bottom": null,
      "display": null,
      "flex": null,
      "flex_flow": null,
      "grid_area": null,
      "grid_auto_columns": null,
      "grid_auto_flow": null,
      "grid_auto_rows": null,
      "grid_column": null,
      "grid_gap": null,
      "grid_row": null,
      "grid_template_areas": null,
      "grid_template_columns": null,
      "grid_template_rows": null,
      "height": null,
      "justify_content": null,
      "justify_items": null,
      "left": null,
      "margin": null,
      "max_height": null,
      "max_width": null,
      "min_height": null,
      "min_width": null,
      "object_fit": null,
      "object_position": null,
      "order": null,
      "overflow": null,
      "overflow_x": null,
      "overflow_y": null,
      "padding": null,
      "right": null,
      "top": null,
      "visibility": null,
      "width": null
     }
    },
    "50b9c0aaf07e4db59ff9b9d9bd148774": {
     "model_module": "@jupyter-widgets/controls",
     "model_name": "ProgressStyleModel",
     "state": {
      "_model_module": "@jupyter-widgets/controls",
      "_model_module_version": "1.5.0",
      "_model_name": "ProgressStyleModel",
      "_view_count": null,
      "_view_module": "@jupyter-widgets/base",
      "_view_module_version": "1.2.0",
      "_view_name": "StyleView",
      "bar_color": null,
      "description_width": "initial"
     }
    },
    "560eaa097ede40fca936135c431f7061": {
     "model_module": "@jupyter-widgets/controls",
     "model_name": "FloatProgressModel",
     "state": {
      "_dom_classes": [],
      "_model_module": "@jupyter-widgets/controls",
      "_model_module_version": "1.5.0",
      "_model_name": "FloatProgressModel",
      "_view_count": null,
      "_view_module": "@jupyter-widgets/controls",
      "_view_module_version": "1.5.0",
      "_view_name": "ProgressView",
      "bar_style": "success",
      "description": "Epoch 0: 100%",
      "description_tooltip": null,
      "layout": "IPY_MODEL_624d4a0b61fa4ed3b7f6f71a5a4bb0df",
      "max": 196,
      "min": 0,
      "orientation": "horizontal",
      "style": "IPY_MODEL_50b9c0aaf07e4db59ff9b9d9bd148774",
      "value": 196
     }
    },
    "5c77461e068f433ea70924192d870835": {
     "model_module": "@jupyter-widgets/controls",
     "model_name": "ProgressStyleModel",
     "state": {
      "_model_module": "@jupyter-widgets/controls",
      "_model_module_version": "1.5.0",
      "_model_name": "ProgressStyleModel",
      "_view_count": null,
      "_view_module": "@jupyter-widgets/base",
      "_view_module_version": "1.2.0",
      "_view_name": "StyleView",
      "bar_color": null,
      "description_width": "initial"
     }
    },
    "624d4a0b61fa4ed3b7f6f71a5a4bb0df": {
     "model_module": "@jupyter-widgets/base",
     "model_name": "LayoutModel",
     "state": {
      "_model_module": "@jupyter-widgets/base",
      "_model_module_version": "1.2.0",
      "_model_name": "LayoutModel",
      "_view_count": null,
      "_view_module": "@jupyter-widgets/base",
      "_view_module_version": "1.2.0",
      "_view_name": "LayoutView",
      "align_content": null,
      "align_items": null,
      "align_self": null,
      "border": null,
      "bottom": null,
      "display": null,
      "flex": "2",
      "flex_flow": null,
      "grid_area": null,
      "grid_auto_columns": null,
      "grid_auto_flow": null,
      "grid_auto_rows": null,
      "grid_column": null,
      "grid_gap": null,
      "grid_row": null,
      "grid_template_areas": null,
      "grid_template_columns": null,
      "grid_template_rows": null,
      "height": null,
      "justify_content": null,
      "justify_items": null,
      "left": null,
      "margin": null,
      "max_height": null,
      "max_width": null,
      "min_height": null,
      "min_width": null,
      "object_fit": null,
      "object_position": null,
      "order": null,
      "overflow": null,
      "overflow_x": null,
      "overflow_y": null,
      "padding": null,
      "right": null,
      "top": null,
      "visibility": null,
      "width": null
     }
    },
    "69d3a3197f434b9e88f5b4693d191c50": {
     "model_module": "@jupyter-widgets/controls",
     "model_name": "DescriptionStyleModel",
     "state": {
      "_model_module": "@jupyter-widgets/controls",
      "_model_module_version": "1.5.0",
      "_model_name": "DescriptionStyleModel",
      "_view_count": null,
      "_view_module": "@jupyter-widgets/base",
      "_view_module_version": "1.2.0",
      "_view_name": "StyleView",
      "description_width": ""
     }
    },
    "6cb95bc91de546eaabd2cc65a52ca8d5": {
     "model_module": "@jupyter-widgets/controls",
     "model_name": "HBoxModel",
     "state": {
      "_dom_classes": [],
      "_model_module": "@jupyter-widgets/controls",
      "_model_module_version": "1.5.0",
      "_model_name": "HBoxModel",
      "_view_count": null,
      "_view_module": "@jupyter-widgets/controls",
      "_view_module_version": "1.5.0",
      "_view_name": "HBoxView",
      "box_style": "",
      "children": [
       "IPY_MODEL_3472c1aef5944a05b3876e004b2de2d1",
       "IPY_MODEL_ad55b362015b43d286c3a8f3b1b1a6d4"
      ],
      "layout": "IPY_MODEL_491ce4cac03a4e22b42ae7678164730d"
     }
    },
    "7be0c70d07e24ecfb760f5ac29ad482b": {
     "model_module": "@jupyter-widgets/base",
     "model_name": "LayoutModel",
     "state": {
      "_model_module": "@jupyter-widgets/base",
      "_model_module_version": "1.2.0",
      "_model_name": "LayoutModel",
      "_view_count": null,
      "_view_module": "@jupyter-widgets/base",
      "_view_module_version": "1.2.0",
      "_view_name": "LayoutView",
      "align_content": null,
      "align_items": null,
      "align_self": null,
      "border": null,
      "bottom": null,
      "display": null,
      "flex": null,
      "flex_flow": null,
      "grid_area": null,
      "grid_auto_columns": null,
      "grid_auto_flow": null,
      "grid_auto_rows": null,
      "grid_column": null,
      "grid_gap": null,
      "grid_row": null,
      "grid_template_areas": null,
      "grid_template_columns": null,
      "grid_template_rows": null,
      "height": null,
      "justify_content": null,
      "justify_items": null,
      "left": null,
      "margin": null,
      "max_height": null,
      "max_width": null,
      "min_height": null,
      "min_width": null,
      "object_fit": null,
      "object_position": null,
      "order": null,
      "overflow": null,
      "overflow_x": null,
      "overflow_y": null,
      "padding": null,
      "right": null,
      "top": null,
      "visibility": null,
      "width": null
     }
    },
    "7d39b7d54f594c4ab01e12a9ec8e334e": {
     "model_module": "@jupyter-widgets/controls",
     "model_name": "DescriptionStyleModel",
     "state": {
      "_model_module": "@jupyter-widgets/controls",
      "_model_module_version": "1.5.0",
      "_model_name": "DescriptionStyleModel",
      "_view_count": null,
      "_view_module": "@jupyter-widgets/base",
      "_view_module_version": "1.2.0",
      "_view_name": "StyleView",
      "description_width": ""
     }
    },
    "8727d4f5c84a4dca8a52b59c236bfad9": {
     "model_module": "@jupyter-widgets/base",
     "model_name": "LayoutModel",
     "state": {
      "_model_module": "@jupyter-widgets/base",
      "_model_module_version": "1.2.0",
      "_model_name": "LayoutModel",
      "_view_count": null,
      "_view_module": "@jupyter-widgets/base",
      "_view_module_version": "1.2.0",
      "_view_name": "LayoutView",
      "align_content": null,
      "align_items": null,
      "align_self": null,
      "border": null,
      "bottom": null,
      "display": null,
      "flex": "2",
      "flex_flow": null,
      "grid_area": null,
      "grid_auto_columns": null,
      "grid_auto_flow": null,
      "grid_auto_rows": null,
      "grid_column": null,
      "grid_gap": null,
      "grid_row": null,
      "grid_template_areas": null,
      "grid_template_columns": null,
      "grid_template_rows": null,
      "height": null,
      "justify_content": null,
      "justify_items": null,
      "left": null,
      "margin": null,
      "max_height": null,
      "max_width": null,
      "min_height": null,
      "min_width": null,
      "object_fit": null,
      "object_position": null,
      "order": null,
      "overflow": null,
      "overflow_x": null,
      "overflow_y": null,
      "padding": null,
      "right": null,
      "top": null,
      "visibility": null,
      "width": null
     }
    },
    "8fe049a898fc47faaee87fad8dc06f77": {
     "model_module": "@jupyter-widgets/base",
     "model_name": "LayoutModel",
     "state": {
      "_model_module": "@jupyter-widgets/base",
      "_model_module_version": "1.2.0",
      "_model_name": "LayoutModel",
      "_view_count": null,
      "_view_module": "@jupyter-widgets/base",
      "_view_module_version": "1.2.0",
      "_view_name": "LayoutView",
      "align_content": null,
      "align_items": null,
      "align_self": null,
      "border": null,
      "bottom": null,
      "display": "inline-flex",
      "flex": null,
      "flex_flow": "row wrap",
      "grid_area": null,
      "grid_auto_columns": null,
      "grid_auto_flow": null,
      "grid_auto_rows": null,
      "grid_column": null,
      "grid_gap": null,
      "grid_row": null,
      "grid_template_areas": null,
      "grid_template_columns": null,
      "grid_template_rows": null,
      "height": null,
      "justify_content": null,
      "justify_items": null,
      "left": null,
      "margin": null,
      "max_height": null,
      "max_width": null,
      "min_height": null,
      "min_width": null,
      "object_fit": null,
      "object_position": null,
      "order": null,
      "overflow": null,
      "overflow_x": null,
      "overflow_y": null,
      "padding": null,
      "right": null,
      "top": null,
      "visibility": null,
      "width": "100%"
     }
    },
    "a436db254ccd4b14bceaaba2432af15b": {
     "model_module": "@jupyter-widgets/controls",
     "model_name": "HTMLModel",
     "state": {
      "_dom_classes": [],
      "_model_module": "@jupyter-widgets/controls",
      "_model_module_version": "1.5.0",
      "_model_name": "HTMLModel",
      "_view_count": null,
      "_view_module": "@jupyter-widgets/controls",
      "_view_module_version": "1.5.0",
      "_view_name": "HTMLView",
      "description": "",
      "description_tooltip": null,
      "layout": "IPY_MODEL_21c78d50407940ceb9c9effe98406ca1",
      "placeholder": "​",
      "style": "IPY_MODEL_7d39b7d54f594c4ab01e12a9ec8e334e",
      "value": " 0/? [00:00&lt;?, ?it/s]"
     }
    },
    "a9d345e1cdcd4b169952843f7cfe164d": {
     "model_module": "@jupyter-widgets/controls",
     "model_name": "ProgressStyleModel",
     "state": {
      "_model_module": "@jupyter-widgets/controls",
      "_model_module_version": "1.5.0",
      "_model_name": "ProgressStyleModel",
      "_view_count": null,
      "_view_module": "@jupyter-widgets/base",
      "_view_module_version": "1.2.0",
      "_view_name": "StyleView",
      "bar_color": null,
      "description_width": "initial"
     }
    },
    "ad55b362015b43d286c3a8f3b1b1a6d4": {
     "model_module": "@jupyter-widgets/controls",
     "model_name": "HTMLModel",
     "state": {
      "_dom_classes": [],
      "_model_module": "@jupyter-widgets/controls",
      "_model_module_version": "1.5.0",
      "_model_name": "HTMLModel",
      "_view_count": null,
      "_view_module": "@jupyter-widgets/controls",
      "_view_module_version": "1.5.0",
      "_view_name": "HTMLView",
      "description": "",
      "description_tooltip": null,
      "layout": "IPY_MODEL_017ec46232e04f0988b3abd088c16c6f",
      "placeholder": "​",
      "style": "IPY_MODEL_69d3a3197f434b9e88f5b4693d191c50",
      "value": " 170499072/? [00:07&lt;00:00, 22789937.25it/s]"
     }
    },
    "cb644688534649cba7e6e29497351b2f": {
     "model_module": "@jupyter-widgets/base",
     "model_name": "LayoutModel",
     "state": {
      "_model_module": "@jupyter-widgets/base",
      "_model_module_version": "1.2.0",
      "_model_name": "LayoutModel",
      "_view_count": null,
      "_view_module": "@jupyter-widgets/base",
      "_view_module_version": "1.2.0",
      "_view_name": "LayoutView",
      "align_content": null,
      "align_items": null,
      "align_self": null,
      "border": null,
      "bottom": null,
      "display": "inline-flex",
      "flex": null,
      "flex_flow": "row wrap",
      "grid_area": null,
      "grid_auto_columns": null,
      "grid_auto_flow": null,
      "grid_auto_rows": null,
      "grid_column": null,
      "grid_gap": null,
      "grid_row": null,
      "grid_template_areas": null,
      "grid_template_columns": null,
      "grid_template_rows": null,
      "height": null,
      "justify_content": null,
      "justify_items": null,
      "left": null,
      "margin": null,
      "max_height": null,
      "max_width": null,
      "min_height": null,
      "min_width": null,
      "object_fit": null,
      "object_position": null,
      "order": null,
      "overflow": null,
      "overflow_x": null,
      "overflow_y": null,
      "padding": null,
      "right": null,
      "top": null,
      "visibility": null,
      "width": "100%"
     }
    },
    "e293112344684f3daaa1d94e9eb23dd2": {
     "model_module": "@jupyter-widgets/controls",
     "model_name": "HTMLModel",
     "state": {
      "_dom_classes": [],
      "_model_module": "@jupyter-widgets/controls",
      "_model_module_version": "1.5.0",
      "_model_name": "HTMLModel",
      "_view_count": null,
      "_view_module": "@jupyter-widgets/controls",
      "_view_module_version": "1.5.0",
      "_view_name": "HTMLView",
      "description": "",
      "description_tooltip": null,
      "layout": "IPY_MODEL_0864cca9ddc64f80b94e71586723ccaa",
      "placeholder": "​",
      "style": "IPY_MODEL_0ee4c29f64fe492486d0d1b32d01063e",
      "value": " 196/196 [02:12&lt;00:00,  1.48it/s, loss=0.0435, v_num=2]"
     }
    }
   }
  }
 },
 "nbformat": 4,
 "nbformat_minor": 4
}
